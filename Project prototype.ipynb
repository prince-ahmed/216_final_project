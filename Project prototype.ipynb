{
 "cells": [
  {
   "cell_type": "code",
   "execution_count": 86,
   "id": "db7ddb6e-77d0-4f3c-aaed-536533252c72",
   "metadata": {},
   "outputs": [],
   "source": [
    "import numpy as np\n",
    "import pandas as pd\n",
    "import seaborn as sns\n",
    "import matplotlib.pyplot as plt\n",
    "from sklearn.linear_model import LogisticRegression\n",
    "from sklearn.metrics import accuracy_score\n",
    "from sklearn.metrics import ConfusionMatrixDisplay\n",
    "from sklearn import metrics\n",
    "from sklearn.model_selection import train_test_split\n",
    "from sklearn.preprocessing import OneHotEncoder\n",
    "from sklearn.linear_model import LinearRegression\n",
    "from sklearn.dummy import DummyClassifier\n",
    "from sklearn.neighbors import KNeighborsClassifier\n",
    "from sklearn.neighbors import KNeighborsRegressor\n",
    "from sklearn.model_selection import GridSearchCV\n",
    "from sklearn.metrics import mean_squared_error\n"
   ]
  },
  {
   "cell_type": "code",
   "execution_count": 23,
   "id": "df87394a-6480-4a6f-b6b5-32ac290caed6",
   "metadata": {},
   "outputs": [
    {
     "name": "stdout",
     "output_type": "stream",
     "text": [
      "CPU times: user 32.7 s, sys: 15.2 s, total: 47.9 s\n",
      "Wall time: 55.8 s\n"
     ]
    }
   ],
   "source": [
    "%%time\n",
    "data_2018 = pd.read_csv(\"Combined_Flights_2018.csv\")"
   ]
  },
  {
   "cell_type": "code",
   "execution_count": 15,
   "id": "b89f49a9-f25a-4721-920c-612943da5b82",
   "metadata": {},
   "outputs": [
    {
     "data": {
      "text/html": [
       "<div>\n",
       "<style scoped>\n",
       "    .dataframe tbody tr th:only-of-type {\n",
       "        vertical-align: middle;\n",
       "    }\n",
       "\n",
       "    .dataframe tbody tr th {\n",
       "        vertical-align: top;\n",
       "    }\n",
       "\n",
       "    .dataframe thead th {\n",
       "        text-align: right;\n",
       "    }\n",
       "</style>\n",
       "<table border=\"1\" class=\"dataframe\">\n",
       "  <thead>\n",
       "    <tr style=\"text-align: right;\">\n",
       "      <th></th>\n",
       "      <th>FlightDate</th>\n",
       "      <th>Airline</th>\n",
       "      <th>Origin</th>\n",
       "      <th>Dest</th>\n",
       "      <th>Cancelled</th>\n",
       "      <th>Diverted</th>\n",
       "      <th>CRSDepTime</th>\n",
       "      <th>DepTime</th>\n",
       "      <th>DepDelayMinutes</th>\n",
       "      <th>DepDelay</th>\n",
       "      <th>...</th>\n",
       "      <th>WheelsOff</th>\n",
       "      <th>WheelsOn</th>\n",
       "      <th>TaxiIn</th>\n",
       "      <th>CRSArrTime</th>\n",
       "      <th>ArrDelay</th>\n",
       "      <th>ArrDel15</th>\n",
       "      <th>ArrivalDelayGroups</th>\n",
       "      <th>ArrTimeBlk</th>\n",
       "      <th>DistanceGroup</th>\n",
       "      <th>DivAirportLandings</th>\n",
       "    </tr>\n",
       "  </thead>\n",
       "  <tbody>\n",
       "    <tr>\n",
       "      <th>0</th>\n",
       "      <td>2018-01-23</td>\n",
       "      <td>Endeavor Air Inc.</td>\n",
       "      <td>ABY</td>\n",
       "      <td>ATL</td>\n",
       "      <td>False</td>\n",
       "      <td>False</td>\n",
       "      <td>1202</td>\n",
       "      <td>1157.0</td>\n",
       "      <td>0.0</td>\n",
       "      <td>-5.0</td>\n",
       "      <td>...</td>\n",
       "      <td>1211.0</td>\n",
       "      <td>1249.0</td>\n",
       "      <td>7.0</td>\n",
       "      <td>1304</td>\n",
       "      <td>-8.0</td>\n",
       "      <td>0.0</td>\n",
       "      <td>-1.0</td>\n",
       "      <td>1300-1359</td>\n",
       "      <td>1</td>\n",
       "      <td>0.0</td>\n",
       "    </tr>\n",
       "    <tr>\n",
       "      <th>1</th>\n",
       "      <td>2018-01-24</td>\n",
       "      <td>Endeavor Air Inc.</td>\n",
       "      <td>ABY</td>\n",
       "      <td>ATL</td>\n",
       "      <td>False</td>\n",
       "      <td>False</td>\n",
       "      <td>1202</td>\n",
       "      <td>1157.0</td>\n",
       "      <td>0.0</td>\n",
       "      <td>-5.0</td>\n",
       "      <td>...</td>\n",
       "      <td>1210.0</td>\n",
       "      <td>1246.0</td>\n",
       "      <td>12.0</td>\n",
       "      <td>1304</td>\n",
       "      <td>-6.0</td>\n",
       "      <td>0.0</td>\n",
       "      <td>-1.0</td>\n",
       "      <td>1300-1359</td>\n",
       "      <td>1</td>\n",
       "      <td>0.0</td>\n",
       "    </tr>\n",
       "    <tr>\n",
       "      <th>2</th>\n",
       "      <td>2018-01-25</td>\n",
       "      <td>Endeavor Air Inc.</td>\n",
       "      <td>ABY</td>\n",
       "      <td>ATL</td>\n",
       "      <td>False</td>\n",
       "      <td>False</td>\n",
       "      <td>1202</td>\n",
       "      <td>1153.0</td>\n",
       "      <td>0.0</td>\n",
       "      <td>-9.0</td>\n",
       "      <td>...</td>\n",
       "      <td>1211.0</td>\n",
       "      <td>1251.0</td>\n",
       "      <td>11.0</td>\n",
       "      <td>1304</td>\n",
       "      <td>-2.0</td>\n",
       "      <td>0.0</td>\n",
       "      <td>-1.0</td>\n",
       "      <td>1300-1359</td>\n",
       "      <td>1</td>\n",
       "      <td>0.0</td>\n",
       "    </tr>\n",
       "    <tr>\n",
       "      <th>3</th>\n",
       "      <td>2018-01-26</td>\n",
       "      <td>Endeavor Air Inc.</td>\n",
       "      <td>ABY</td>\n",
       "      <td>ATL</td>\n",
       "      <td>False</td>\n",
       "      <td>False</td>\n",
       "      <td>1202</td>\n",
       "      <td>1150.0</td>\n",
       "      <td>0.0</td>\n",
       "      <td>-12.0</td>\n",
       "      <td>...</td>\n",
       "      <td>1207.0</td>\n",
       "      <td>1242.0</td>\n",
       "      <td>11.0</td>\n",
       "      <td>1304</td>\n",
       "      <td>-11.0</td>\n",
       "      <td>0.0</td>\n",
       "      <td>-1.0</td>\n",
       "      <td>1300-1359</td>\n",
       "      <td>1</td>\n",
       "      <td>0.0</td>\n",
       "    </tr>\n",
       "    <tr>\n",
       "      <th>4</th>\n",
       "      <td>2018-01-27</td>\n",
       "      <td>Endeavor Air Inc.</td>\n",
       "      <td>ABY</td>\n",
       "      <td>ATL</td>\n",
       "      <td>False</td>\n",
       "      <td>False</td>\n",
       "      <td>1400</td>\n",
       "      <td>1355.0</td>\n",
       "      <td>0.0</td>\n",
       "      <td>-5.0</td>\n",
       "      <td>...</td>\n",
       "      <td>1412.0</td>\n",
       "      <td>1448.0</td>\n",
       "      <td>11.0</td>\n",
       "      <td>1500</td>\n",
       "      <td>-1.0</td>\n",
       "      <td>0.0</td>\n",
       "      <td>-1.0</td>\n",
       "      <td>1500-1559</td>\n",
       "      <td>1</td>\n",
       "      <td>0.0</td>\n",
       "    </tr>\n",
       "    <tr>\n",
       "      <th>...</th>\n",
       "      <td>...</td>\n",
       "      <td>...</td>\n",
       "      <td>...</td>\n",
       "      <td>...</td>\n",
       "      <td>...</td>\n",
       "      <td>...</td>\n",
       "      <td>...</td>\n",
       "      <td>...</td>\n",
       "      <td>...</td>\n",
       "      <td>...</td>\n",
       "      <td>...</td>\n",
       "      <td>...</td>\n",
       "      <td>...</td>\n",
       "      <td>...</td>\n",
       "      <td>...</td>\n",
       "      <td>...</td>\n",
       "      <td>...</td>\n",
       "      <td>...</td>\n",
       "      <td>...</td>\n",
       "      <td>...</td>\n",
       "      <td>...</td>\n",
       "    </tr>\n",
       "    <tr>\n",
       "      <th>5689507</th>\n",
       "      <td>2018-09-11</td>\n",
       "      <td>Air Wisconsin Airlines Corp</td>\n",
       "      <td>SCE</td>\n",
       "      <td>IAD</td>\n",
       "      <td>False</td>\n",
       "      <td>False</td>\n",
       "      <td>1445</td>\n",
       "      <td>1433.0</td>\n",
       "      <td>0.0</td>\n",
       "      <td>-12.0</td>\n",
       "      <td>...</td>\n",
       "      <td>1437.0</td>\n",
       "      <td>1512.0</td>\n",
       "      <td>3.0</td>\n",
       "      <td>1546</td>\n",
       "      <td>-31.0</td>\n",
       "      <td>0.0</td>\n",
       "      <td>-2.0</td>\n",
       "      <td>1500-1559</td>\n",
       "      <td>1</td>\n",
       "      <td>0.0</td>\n",
       "    </tr>\n",
       "    <tr>\n",
       "      <th>5689508</th>\n",
       "      <td>2018-09-11</td>\n",
       "      <td>Air Wisconsin Airlines Corp</td>\n",
       "      <td>IAD</td>\n",
       "      <td>GSO</td>\n",
       "      <td>False</td>\n",
       "      <td>False</td>\n",
       "      <td>1235</td>\n",
       "      <td>1224.0</td>\n",
       "      <td>0.0</td>\n",
       "      <td>-11.0</td>\n",
       "      <td>...</td>\n",
       "      <td>1254.0</td>\n",
       "      <td>1337.0</td>\n",
       "      <td>7.0</td>\n",
       "      <td>1355</td>\n",
       "      <td>-11.0</td>\n",
       "      <td>0.0</td>\n",
       "      <td>-1.0</td>\n",
       "      <td>1300-1359</td>\n",
       "      <td>1</td>\n",
       "      <td>0.0</td>\n",
       "    </tr>\n",
       "    <tr>\n",
       "      <th>5689509</th>\n",
       "      <td>2018-09-11</td>\n",
       "      <td>Air Wisconsin Airlines Corp</td>\n",
       "      <td>EVV</td>\n",
       "      <td>ORD</td>\n",
       "      <td>False</td>\n",
       "      <td>False</td>\n",
       "      <td>1030</td>\n",
       "      <td>1016.0</td>\n",
       "      <td>0.0</td>\n",
       "      <td>-14.0</td>\n",
       "      <td>...</td>\n",
       "      <td>1036.0</td>\n",
       "      <td>1130.0</td>\n",
       "      <td>7.0</td>\n",
       "      <td>1204</td>\n",
       "      <td>-27.0</td>\n",
       "      <td>0.0</td>\n",
       "      <td>-2.0</td>\n",
       "      <td>1200-1259</td>\n",
       "      <td>2</td>\n",
       "      <td>0.0</td>\n",
       "    </tr>\n",
       "    <tr>\n",
       "      <th>5689510</th>\n",
       "      <td>2018-09-11</td>\n",
       "      <td>Air Wisconsin Airlines Corp</td>\n",
       "      <td>ORD</td>\n",
       "      <td>HPN</td>\n",
       "      <td>False</td>\n",
       "      <td>False</td>\n",
       "      <td>1410</td>\n",
       "      <td>1403.0</td>\n",
       "      <td>0.0</td>\n",
       "      <td>-7.0</td>\n",
       "      <td>...</td>\n",
       "      <td>1428.0</td>\n",
       "      <td>1712.0</td>\n",
       "      <td>5.0</td>\n",
       "      <td>1726</td>\n",
       "      <td>-9.0</td>\n",
       "      <td>0.0</td>\n",
       "      <td>-1.0</td>\n",
       "      <td>1700-1759</td>\n",
       "      <td>3</td>\n",
       "      <td>0.0</td>\n",
       "    </tr>\n",
       "    <tr>\n",
       "      <th>5689511</th>\n",
       "      <td>2018-09-11</td>\n",
       "      <td>Air Wisconsin Airlines Corp</td>\n",
       "      <td>HPN</td>\n",
       "      <td>ORD</td>\n",
       "      <td>False</td>\n",
       "      <td>False</td>\n",
       "      <td>1800</td>\n",
       "      <td>1754.0</td>\n",
       "      <td>0.0</td>\n",
       "      <td>-6.0</td>\n",
       "      <td>...</td>\n",
       "      <td>1808.0</td>\n",
       "      <td>1904.0</td>\n",
       "      <td>15.0</td>\n",
       "      <td>1933</td>\n",
       "      <td>-14.0</td>\n",
       "      <td>0.0</td>\n",
       "      <td>-1.0</td>\n",
       "      <td>1900-1959</td>\n",
       "      <td>3</td>\n",
       "      <td>0.0</td>\n",
       "    </tr>\n",
       "  </tbody>\n",
       "</table>\n",
       "<p>5689512 rows × 61 columns</p>\n",
       "</div>"
      ],
      "text/plain": [
       "         FlightDate                      Airline Origin Dest  Cancelled  \\\n",
       "0        2018-01-23            Endeavor Air Inc.    ABY  ATL      False   \n",
       "1        2018-01-24            Endeavor Air Inc.    ABY  ATL      False   \n",
       "2        2018-01-25            Endeavor Air Inc.    ABY  ATL      False   \n",
       "3        2018-01-26            Endeavor Air Inc.    ABY  ATL      False   \n",
       "4        2018-01-27            Endeavor Air Inc.    ABY  ATL      False   \n",
       "...             ...                          ...    ...  ...        ...   \n",
       "5689507  2018-09-11  Air Wisconsin Airlines Corp    SCE  IAD      False   \n",
       "5689508  2018-09-11  Air Wisconsin Airlines Corp    IAD  GSO      False   \n",
       "5689509  2018-09-11  Air Wisconsin Airlines Corp    EVV  ORD      False   \n",
       "5689510  2018-09-11  Air Wisconsin Airlines Corp    ORD  HPN      False   \n",
       "5689511  2018-09-11  Air Wisconsin Airlines Corp    HPN  ORD      False   \n",
       "\n",
       "         Diverted  CRSDepTime  DepTime  DepDelayMinutes  DepDelay  ...  \\\n",
       "0           False        1202   1157.0              0.0      -5.0  ...   \n",
       "1           False        1202   1157.0              0.0      -5.0  ...   \n",
       "2           False        1202   1153.0              0.0      -9.0  ...   \n",
       "3           False        1202   1150.0              0.0     -12.0  ...   \n",
       "4           False        1400   1355.0              0.0      -5.0  ...   \n",
       "...           ...         ...      ...              ...       ...  ...   \n",
       "5689507     False        1445   1433.0              0.0     -12.0  ...   \n",
       "5689508     False        1235   1224.0              0.0     -11.0  ...   \n",
       "5689509     False        1030   1016.0              0.0     -14.0  ...   \n",
       "5689510     False        1410   1403.0              0.0      -7.0  ...   \n",
       "5689511     False        1800   1754.0              0.0      -6.0  ...   \n",
       "\n",
       "         WheelsOff  WheelsOn  TaxiIn  CRSArrTime  ArrDelay  ArrDel15  \\\n",
       "0           1211.0    1249.0     7.0        1304      -8.0       0.0   \n",
       "1           1210.0    1246.0    12.0        1304      -6.0       0.0   \n",
       "2           1211.0    1251.0    11.0        1304      -2.0       0.0   \n",
       "3           1207.0    1242.0    11.0        1304     -11.0       0.0   \n",
       "4           1412.0    1448.0    11.0        1500      -1.0       0.0   \n",
       "...            ...       ...     ...         ...       ...       ...   \n",
       "5689507     1437.0    1512.0     3.0        1546     -31.0       0.0   \n",
       "5689508     1254.0    1337.0     7.0        1355     -11.0       0.0   \n",
       "5689509     1036.0    1130.0     7.0        1204     -27.0       0.0   \n",
       "5689510     1428.0    1712.0     5.0        1726      -9.0       0.0   \n",
       "5689511     1808.0    1904.0    15.0        1933     -14.0       0.0   \n",
       "\n",
       "         ArrivalDelayGroups  ArrTimeBlk  DistanceGroup  DivAirportLandings  \n",
       "0                      -1.0   1300-1359              1                 0.0  \n",
       "1                      -1.0   1300-1359              1                 0.0  \n",
       "2                      -1.0   1300-1359              1                 0.0  \n",
       "3                      -1.0   1300-1359              1                 0.0  \n",
       "4                      -1.0   1500-1559              1                 0.0  \n",
       "...                     ...         ...            ...                 ...  \n",
       "5689507                -2.0   1500-1559              1                 0.0  \n",
       "5689508                -1.0   1300-1359              1                 0.0  \n",
       "5689509                -2.0   1200-1259              2                 0.0  \n",
       "5689510                -1.0   1700-1759              3                 0.0  \n",
       "5689511                -1.0   1900-1959              3                 0.0  \n",
       "\n",
       "[5689512 rows x 61 columns]"
      ]
     },
     "execution_count": 15,
     "metadata": {},
     "output_type": "execute_result"
    }
   ],
   "source": [
    "data_2018"
   ]
  },
  {
   "cell_type": "code",
   "execution_count": 17,
   "id": "61e848e6-a43c-49b0-a1e7-5b42285ccb8c",
   "metadata": {},
   "outputs": [
    {
     "data": {
      "text/html": [
       "<div>\n",
       "<style scoped>\n",
       "    .dataframe tbody tr th:only-of-type {\n",
       "        vertical-align: middle;\n",
       "    }\n",
       "\n",
       "    .dataframe tbody tr th {\n",
       "        vertical-align: top;\n",
       "    }\n",
       "\n",
       "    .dataframe thead th {\n",
       "        text-align: right;\n",
       "    }\n",
       "</style>\n",
       "<table border=\"1\" class=\"dataframe\">\n",
       "  <thead>\n",
       "    <tr style=\"text-align: right;\">\n",
       "      <th></th>\n",
       "      <th>FlightDate</th>\n",
       "      <th>Airline</th>\n",
       "      <th>Origin</th>\n",
       "      <th>Dest</th>\n",
       "      <th>DepTime</th>\n",
       "      <th>DepDelayMinutes</th>\n",
       "      <th>DepDelay</th>\n",
       "      <th>ArrTime</th>\n",
       "      <th>ArrDelayMinutes</th>\n",
       "      <th>AirTime</th>\n",
       "      <th>ActualElapsedTime</th>\n",
       "      <th>Distance</th>\n",
       "      <th>Month</th>\n",
       "      <th>DayofMonth</th>\n",
       "      <th>DayOfWeek</th>\n",
       "      <th>OriginCityName</th>\n",
       "      <th>OriginState</th>\n",
       "      <th>DestCityName</th>\n",
       "      <th>DestState</th>\n",
       "      <th>ArrDelay</th>\n",
       "    </tr>\n",
       "  </thead>\n",
       "  <tbody>\n",
       "    <tr>\n",
       "      <th>0</th>\n",
       "      <td>2018-01-23</td>\n",
       "      <td>Endeavor Air Inc.</td>\n",
       "      <td>ABY</td>\n",
       "      <td>ATL</td>\n",
       "      <td>1157.0</td>\n",
       "      <td>0.0</td>\n",
       "      <td>-5.0</td>\n",
       "      <td>1256.0</td>\n",
       "      <td>0.0</td>\n",
       "      <td>38.0</td>\n",
       "      <td>59.0</td>\n",
       "      <td>145.0</td>\n",
       "      <td>1</td>\n",
       "      <td>23</td>\n",
       "      <td>2</td>\n",
       "      <td>Albany, GA</td>\n",
       "      <td>GA</td>\n",
       "      <td>Atlanta, GA</td>\n",
       "      <td>GA</td>\n",
       "      <td>-8.0</td>\n",
       "    </tr>\n",
       "    <tr>\n",
       "      <th>1</th>\n",
       "      <td>2018-01-24</td>\n",
       "      <td>Endeavor Air Inc.</td>\n",
       "      <td>ABY</td>\n",
       "      <td>ATL</td>\n",
       "      <td>1157.0</td>\n",
       "      <td>0.0</td>\n",
       "      <td>-5.0</td>\n",
       "      <td>1258.0</td>\n",
       "      <td>0.0</td>\n",
       "      <td>36.0</td>\n",
       "      <td>61.0</td>\n",
       "      <td>145.0</td>\n",
       "      <td>1</td>\n",
       "      <td>24</td>\n",
       "      <td>3</td>\n",
       "      <td>Albany, GA</td>\n",
       "      <td>GA</td>\n",
       "      <td>Atlanta, GA</td>\n",
       "      <td>GA</td>\n",
       "      <td>-6.0</td>\n",
       "    </tr>\n",
       "    <tr>\n",
       "      <th>2</th>\n",
       "      <td>2018-01-25</td>\n",
       "      <td>Endeavor Air Inc.</td>\n",
       "      <td>ABY</td>\n",
       "      <td>ATL</td>\n",
       "      <td>1153.0</td>\n",
       "      <td>0.0</td>\n",
       "      <td>-9.0</td>\n",
       "      <td>1302.0</td>\n",
       "      <td>0.0</td>\n",
       "      <td>40.0</td>\n",
       "      <td>69.0</td>\n",
       "      <td>145.0</td>\n",
       "      <td>1</td>\n",
       "      <td>25</td>\n",
       "      <td>4</td>\n",
       "      <td>Albany, GA</td>\n",
       "      <td>GA</td>\n",
       "      <td>Atlanta, GA</td>\n",
       "      <td>GA</td>\n",
       "      <td>-2.0</td>\n",
       "    </tr>\n",
       "    <tr>\n",
       "      <th>3</th>\n",
       "      <td>2018-01-26</td>\n",
       "      <td>Endeavor Air Inc.</td>\n",
       "      <td>ABY</td>\n",
       "      <td>ATL</td>\n",
       "      <td>1150.0</td>\n",
       "      <td>0.0</td>\n",
       "      <td>-12.0</td>\n",
       "      <td>1253.0</td>\n",
       "      <td>0.0</td>\n",
       "      <td>35.0</td>\n",
       "      <td>63.0</td>\n",
       "      <td>145.0</td>\n",
       "      <td>1</td>\n",
       "      <td>26</td>\n",
       "      <td>5</td>\n",
       "      <td>Albany, GA</td>\n",
       "      <td>GA</td>\n",
       "      <td>Atlanta, GA</td>\n",
       "      <td>GA</td>\n",
       "      <td>-11.0</td>\n",
       "    </tr>\n",
       "    <tr>\n",
       "      <th>4</th>\n",
       "      <td>2018-01-27</td>\n",
       "      <td>Endeavor Air Inc.</td>\n",
       "      <td>ABY</td>\n",
       "      <td>ATL</td>\n",
       "      <td>1355.0</td>\n",
       "      <td>0.0</td>\n",
       "      <td>-5.0</td>\n",
       "      <td>1459.0</td>\n",
       "      <td>0.0</td>\n",
       "      <td>36.0</td>\n",
       "      <td>64.0</td>\n",
       "      <td>145.0</td>\n",
       "      <td>1</td>\n",
       "      <td>27</td>\n",
       "      <td>6</td>\n",
       "      <td>Albany, GA</td>\n",
       "      <td>GA</td>\n",
       "      <td>Atlanta, GA</td>\n",
       "      <td>GA</td>\n",
       "      <td>-1.0</td>\n",
       "    </tr>\n",
       "    <tr>\n",
       "      <th>...</th>\n",
       "      <td>...</td>\n",
       "      <td>...</td>\n",
       "      <td>...</td>\n",
       "      <td>...</td>\n",
       "      <td>...</td>\n",
       "      <td>...</td>\n",
       "      <td>...</td>\n",
       "      <td>...</td>\n",
       "      <td>...</td>\n",
       "      <td>...</td>\n",
       "      <td>...</td>\n",
       "      <td>...</td>\n",
       "      <td>...</td>\n",
       "      <td>...</td>\n",
       "      <td>...</td>\n",
       "      <td>...</td>\n",
       "      <td>...</td>\n",
       "      <td>...</td>\n",
       "      <td>...</td>\n",
       "      <td>...</td>\n",
       "    </tr>\n",
       "    <tr>\n",
       "      <th>5689507</th>\n",
       "      <td>2018-09-11</td>\n",
       "      <td>Air Wisconsin Airlines Corp</td>\n",
       "      <td>SCE</td>\n",
       "      <td>IAD</td>\n",
       "      <td>1433.0</td>\n",
       "      <td>0.0</td>\n",
       "      <td>-12.0</td>\n",
       "      <td>1515.0</td>\n",
       "      <td>0.0</td>\n",
       "      <td>35.0</td>\n",
       "      <td>42.0</td>\n",
       "      <td>133.0</td>\n",
       "      <td>9</td>\n",
       "      <td>11</td>\n",
       "      <td>2</td>\n",
       "      <td>State College, PA</td>\n",
       "      <td>PA</td>\n",
       "      <td>Washington, DC</td>\n",
       "      <td>VA</td>\n",
       "      <td>-31.0</td>\n",
       "    </tr>\n",
       "    <tr>\n",
       "      <th>5689508</th>\n",
       "      <td>2018-09-11</td>\n",
       "      <td>Air Wisconsin Airlines Corp</td>\n",
       "      <td>IAD</td>\n",
       "      <td>GSO</td>\n",
       "      <td>1224.0</td>\n",
       "      <td>0.0</td>\n",
       "      <td>-11.0</td>\n",
       "      <td>1344.0</td>\n",
       "      <td>0.0</td>\n",
       "      <td>43.0</td>\n",
       "      <td>80.0</td>\n",
       "      <td>239.0</td>\n",
       "      <td>9</td>\n",
       "      <td>11</td>\n",
       "      <td>2</td>\n",
       "      <td>Washington, DC</td>\n",
       "      <td>VA</td>\n",
       "      <td>Greensboro/High Point, NC</td>\n",
       "      <td>NC</td>\n",
       "      <td>-11.0</td>\n",
       "    </tr>\n",
       "    <tr>\n",
       "      <th>5689509</th>\n",
       "      <td>2018-09-11</td>\n",
       "      <td>Air Wisconsin Airlines Corp</td>\n",
       "      <td>EVV</td>\n",
       "      <td>ORD</td>\n",
       "      <td>1016.0</td>\n",
       "      <td>0.0</td>\n",
       "      <td>-14.0</td>\n",
       "      <td>1137.0</td>\n",
       "      <td>0.0</td>\n",
       "      <td>54.0</td>\n",
       "      <td>81.0</td>\n",
       "      <td>272.0</td>\n",
       "      <td>9</td>\n",
       "      <td>11</td>\n",
       "      <td>2</td>\n",
       "      <td>Evansville, IN</td>\n",
       "      <td>IN</td>\n",
       "      <td>Chicago, IL</td>\n",
       "      <td>IL</td>\n",
       "      <td>-27.0</td>\n",
       "    </tr>\n",
       "    <tr>\n",
       "      <th>5689510</th>\n",
       "      <td>2018-09-11</td>\n",
       "      <td>Air Wisconsin Airlines Corp</td>\n",
       "      <td>ORD</td>\n",
       "      <td>HPN</td>\n",
       "      <td>1403.0</td>\n",
       "      <td>0.0</td>\n",
       "      <td>-7.0</td>\n",
       "      <td>1717.0</td>\n",
       "      <td>0.0</td>\n",
       "      <td>104.0</td>\n",
       "      <td>134.0</td>\n",
       "      <td>738.0</td>\n",
       "      <td>9</td>\n",
       "      <td>11</td>\n",
       "      <td>2</td>\n",
       "      <td>Chicago, IL</td>\n",
       "      <td>IL</td>\n",
       "      <td>White Plains, NY</td>\n",
       "      <td>NY</td>\n",
       "      <td>-9.0</td>\n",
       "    </tr>\n",
       "    <tr>\n",
       "      <th>5689511</th>\n",
       "      <td>2018-09-11</td>\n",
       "      <td>Air Wisconsin Airlines Corp</td>\n",
       "      <td>HPN</td>\n",
       "      <td>ORD</td>\n",
       "      <td>1754.0</td>\n",
       "      <td>0.0</td>\n",
       "      <td>-6.0</td>\n",
       "      <td>1919.0</td>\n",
       "      <td>0.0</td>\n",
       "      <td>116.0</td>\n",
       "      <td>145.0</td>\n",
       "      <td>738.0</td>\n",
       "      <td>9</td>\n",
       "      <td>11</td>\n",
       "      <td>2</td>\n",
       "      <td>White Plains, NY</td>\n",
       "      <td>NY</td>\n",
       "      <td>Chicago, IL</td>\n",
       "      <td>IL</td>\n",
       "      <td>-14.0</td>\n",
       "    </tr>\n",
       "  </tbody>\n",
       "</table>\n",
       "<p>5689512 rows × 20 columns</p>\n",
       "</div>"
      ],
      "text/plain": [
       "         FlightDate                      Airline Origin Dest  DepTime  \\\n",
       "0        2018-01-23            Endeavor Air Inc.    ABY  ATL   1157.0   \n",
       "1        2018-01-24            Endeavor Air Inc.    ABY  ATL   1157.0   \n",
       "2        2018-01-25            Endeavor Air Inc.    ABY  ATL   1153.0   \n",
       "3        2018-01-26            Endeavor Air Inc.    ABY  ATL   1150.0   \n",
       "4        2018-01-27            Endeavor Air Inc.    ABY  ATL   1355.0   \n",
       "...             ...                          ...    ...  ...      ...   \n",
       "5689507  2018-09-11  Air Wisconsin Airlines Corp    SCE  IAD   1433.0   \n",
       "5689508  2018-09-11  Air Wisconsin Airlines Corp    IAD  GSO   1224.0   \n",
       "5689509  2018-09-11  Air Wisconsin Airlines Corp    EVV  ORD   1016.0   \n",
       "5689510  2018-09-11  Air Wisconsin Airlines Corp    ORD  HPN   1403.0   \n",
       "5689511  2018-09-11  Air Wisconsin Airlines Corp    HPN  ORD   1754.0   \n",
       "\n",
       "         DepDelayMinutes  DepDelay  ArrTime  ArrDelayMinutes  AirTime  \\\n",
       "0                    0.0      -5.0   1256.0              0.0     38.0   \n",
       "1                    0.0      -5.0   1258.0              0.0     36.0   \n",
       "2                    0.0      -9.0   1302.0              0.0     40.0   \n",
       "3                    0.0     -12.0   1253.0              0.0     35.0   \n",
       "4                    0.0      -5.0   1459.0              0.0     36.0   \n",
       "...                  ...       ...      ...              ...      ...   \n",
       "5689507              0.0     -12.0   1515.0              0.0     35.0   \n",
       "5689508              0.0     -11.0   1344.0              0.0     43.0   \n",
       "5689509              0.0     -14.0   1137.0              0.0     54.0   \n",
       "5689510              0.0      -7.0   1717.0              0.0    104.0   \n",
       "5689511              0.0      -6.0   1919.0              0.0    116.0   \n",
       "\n",
       "         ActualElapsedTime  Distance  Month  DayofMonth  DayOfWeek  \\\n",
       "0                     59.0     145.0      1          23          2   \n",
       "1                     61.0     145.0      1          24          3   \n",
       "2                     69.0     145.0      1          25          4   \n",
       "3                     63.0     145.0      1          26          5   \n",
       "4                     64.0     145.0      1          27          6   \n",
       "...                    ...       ...    ...         ...        ...   \n",
       "5689507               42.0     133.0      9          11          2   \n",
       "5689508               80.0     239.0      9          11          2   \n",
       "5689509               81.0     272.0      9          11          2   \n",
       "5689510              134.0     738.0      9          11          2   \n",
       "5689511              145.0     738.0      9          11          2   \n",
       "\n",
       "            OriginCityName OriginState               DestCityName DestState  \\\n",
       "0               Albany, GA          GA                Atlanta, GA        GA   \n",
       "1               Albany, GA          GA                Atlanta, GA        GA   \n",
       "2               Albany, GA          GA                Atlanta, GA        GA   \n",
       "3               Albany, GA          GA                Atlanta, GA        GA   \n",
       "4               Albany, GA          GA                Atlanta, GA        GA   \n",
       "...                    ...         ...                        ...       ...   \n",
       "5689507  State College, PA          PA             Washington, DC        VA   \n",
       "5689508     Washington, DC          VA  Greensboro/High Point, NC        NC   \n",
       "5689509     Evansville, IN          IN                Chicago, IL        IL   \n",
       "5689510        Chicago, IL          IL           White Plains, NY        NY   \n",
       "5689511   White Plains, NY          NY                Chicago, IL        IL   \n",
       "\n",
       "         ArrDelay  \n",
       "0            -8.0  \n",
       "1            -6.0  \n",
       "2            -2.0  \n",
       "3           -11.0  \n",
       "4            -1.0  \n",
       "...           ...  \n",
       "5689507     -31.0  \n",
       "5689508     -11.0  \n",
       "5689509     -27.0  \n",
       "5689510      -9.0  \n",
       "5689511     -14.0  \n",
       "\n",
       "[5689512 rows x 20 columns]"
      ]
     },
     "execution_count": 17,
     "metadata": {},
     "output_type": "execute_result"
    }
   ],
   "source": [
    "data_2018[['FlightDate', 'Airline', 'Origin', 'Dest', 'DepTime', 'DepDelayMinutes', 'DepDelay', 'ArrTime',\n",
    "       'ArrDelayMinutes', 'AirTime',  'ActualElapsedTime',\n",
    "       'Distance', 'Month', 'DayofMonth', 'DayOfWeek', 'OriginCityName',\n",
    "       'OriginState', 'DestCityName',\n",
    "       'DestState', 'ArrDelay']]"
   ]
  },
  {
   "cell_type": "code",
   "execution_count": 25,
   "id": "716c7594-04e0-4c6f-a4e7-ba4a91bbbe73",
   "metadata": {},
   "outputs": [
    {
     "data": {
      "text/plain": [
       "23      NaN\n",
       "24    128.0\n",
       "35      NaN\n",
       "40      6.0\n",
       "41      1.0\n",
       "48      NaN\n",
       "49      NaN\n",
       "50    117.0\n",
       "54      NaN\n",
       "55     97.0\n",
       "60     18.0\n",
       "62     25.0\n",
       "63     16.0\n",
       "64     59.0\n",
       "65     30.0\n",
       "68      NaN\n",
       "75      6.0\n",
       "76      3.0\n",
       "82      6.0\n",
       "91     87.0\n",
       "94     88.0\n",
       "Name: ArrDelayMinutes, dtype: float64"
      ]
     },
     "execution_count": 25,
     "metadata": {},
     "output_type": "execute_result"
    }
   ],
   "source": [
    "data_2018[\"ArrDelayMinutes\"][20:100][data_2018[\"ArrDelayMinutes\"][20:100] != 0]"
   ]
  },
  {
   "cell_type": "code",
   "execution_count": 3,
   "id": "d60d42ec-a668-43da-9a3a-f032813550e6",
   "metadata": {},
   "outputs": [
    {
     "data": {
      "text/plain": [
       "Index(['FlightDate', 'Airline', 'Origin', 'Dest', 'Cancelled', 'Diverted',\n",
       "       'CRSDepTime', 'DepTime', 'DepDelayMinutes', 'DepDelay', 'ArrTime',\n",
       "       'ArrDelayMinutes', 'AirTime', 'CRSElapsedTime', 'ActualElapsedTime',\n",
       "       'Distance', 'Year', 'Quarter', 'Month', 'DayofMonth', 'DayOfWeek',\n",
       "       'Marketing_Airline_Network', 'Operated_or_Branded_Code_Share_Partners',\n",
       "       'DOT_ID_Marketing_Airline', 'IATA_Code_Marketing_Airline',\n",
       "       'Flight_Number_Marketing_Airline', 'Operating_Airline',\n",
       "       'DOT_ID_Operating_Airline', 'IATA_Code_Operating_Airline',\n",
       "       'Tail_Number', 'Flight_Number_Operating_Airline', 'OriginAirportID',\n",
       "       'OriginAirportSeqID', 'OriginCityMarketID', 'OriginCityName',\n",
       "       'OriginState', 'OriginStateFips', 'OriginStateName', 'OriginWac',\n",
       "       'DestAirportID', 'DestAirportSeqID', 'DestCityMarketID', 'DestCityName',\n",
       "       'DestState', 'DestStateFips', 'DestStateName', 'DestWac', 'DepDel15',\n",
       "       'DepartureDelayGroups', 'DepTimeBlk', 'TaxiOut', 'WheelsOff',\n",
       "       'WheelsOn', 'TaxiIn', 'CRSArrTime', 'ArrDelay', 'ArrDel15',\n",
       "       'ArrivalDelayGroups', 'ArrTimeBlk', 'DistanceGroup',\n",
       "       'DivAirportLandings'],\n",
       "      dtype='object')"
      ]
     },
     "execution_count": 3,
     "metadata": {},
     "output_type": "execute_result"
    }
   ],
   "source": [
    "data_2018.columns"
   ]
  },
  {
   "cell_type": "code",
   "execution_count": 16,
   "id": "62f9b665-dcb3-43fe-8ec7-58764077d4bc",
   "metadata": {},
   "outputs": [
    {
     "data": {
      "text/plain": [
       "[<matplotlib.lines.Line2D at 0x7f8de5964a00>]"
      ]
     },
     "execution_count": 16,
     "metadata": {},
     "output_type": "execute_result"
    },
    {
     "data": {
      "image/png": "[encoded data removed]",
      "text/plain": [
       "<Figure size 432x288 with 1 Axes>"
      ]
     },
     "metadata": {
      "needs_background": "light"
     },
     "output_type": "display_data"
    }
   ],
   "source": [
    "import matplotlib as mpl\n",
    "mpl.rcParams['agg.path.chunksize'] = 10000\n",
    "plt.plot(data_2018[\"DepTime\"]/100 ,data_2018[\"ArrDelayMinutes\"],  \".\")"
   ]
  },
  {
   "cell_type": "code",
   "execution_count": 14,
   "id": "ad82a2fa-3e09-4469-b901-c6b8f56b4bba",
   "metadata": {},
   "outputs": [
    {
     "name": "stdout",
     "output_type": "stream",
     "text": [
      "           ArrDelayMinutes  day_week        std\n",
      "DayOfWeek                                      \n",
      "1                14.718379         1  46.619495\n",
      "2                13.474565         2  43.747472\n",
      "3                12.408350         3  40.151655\n",
      "4                14.767095         4  44.136718\n",
      "5                15.553002         5  47.026451\n",
      "6                11.442142         6  40.938217\n",
      "7                12.987974         7  44.352442 DayOfWeek\n",
      "1    46.619495\n",
      "2    43.747472\n",
      "3    40.151655\n",
      "4    44.136718\n",
      "5    47.026451\n",
      "6    40.938217\n",
      "7    44.352442\n",
      "Name: ArrDelayMinutes, dtype: float64 DayOfWeek\n",
      "1    1976.0\n",
      "2    1968.0\n",
      "3    1717.0\n",
      "4    1767.0\n",
      "5    2475.0\n",
      "6    1866.0\n",
      "7    2635.0\n",
      "Name: ArrDelayMinutes, dtype: float64 DayOfWeek\n",
      "1    845471\n",
      "2    791383\n",
      "3    807616\n",
      "4    819395\n",
      "5    826052\n",
      "6    692357\n",
      "7    804345\n",
      "Name: ArrDelayMinutes, dtype: int64\n"
     ]
    }
   ],
   "source": [
    "mean_1 = data_2018.groupby(\"DayOfWeek\")[\"ArrDelayMinutes\"].mean()\n",
    "mean_1 = mean_1.to_frame()\n",
    "mean_1[\"day_week\"] = mean_1.index\n",
    "std_1 = data_2018.groupby(\"DayOfWeek\")[\"ArrDelayMinutes\"].std()\n",
    "max_1 = data_2018.groupby(\"DayOfWeek\")[\"ArrDelayMinutes\"].max()\n",
    "count_1 = data_2018.groupby(\"DayOfWeek\")[\"ArrDelayMinutes\"].count()\n",
    "mean_1[\"std\"] = std_1.values\n",
    "# print(type(mean))\n",
    "print(mean_1, std_1, max_1, count_1)\n",
    "# print(std)\n",
    "# std_1 = data_2018.groupby(\"DayOfWeek\")[\"ArrDelayMinutes\"].std()\n",
    "# sns.relplot(data=data_2018[\"ArrDelayMinutes\"], x='mean_1', y='std_1') \n"
   ]
  },
  {
   "cell_type": "code",
   "execution_count": 40,
   "id": "3741fb9f-5bcf-40f1-9975-02e30025ee50",
   "metadata": {},
   "outputs": [],
   "source": [
    "def show_group_by(groupby, interested_values = \"ArrDelayMinutes\" , data = data_2018):\n",
    "    mean = data.groupby(groupby)[interested_values].mean()\n",
    "    df = mean.to_frame()\n",
    "    df[groupby] = df.index\n",
    "    std = data.groupby(groupby)[interested_values].std()\n",
    "    df[\"std\"] = std.values\n",
    "    # plt.barh(df[groupby], df[interested_values], xerr = df[\"std\"])\n",
    "    plt.barh(df[groupby], df[interested_values])"
   ]
  },
  {
   "cell_type": "code",
   "execution_count": 21,
   "id": "a7678d6d-ea16-4c4d-9087-1193454a6c15",
   "metadata": {},
   "outputs": [
    {
     "data": {
      "image/png": "[encoded data removed]",
      "text/plain": [
       "<Figure size 432x288 with 1 Axes>"
      ]
     },
     "metadata": {
      "needs_background": "light"
     },
     "output_type": "display_data"
    }
   ],
   "source": [
    "show_group_by(\"DayOfWeek\",\"ArrDelayMinutes\" )"
   ]
  },
  {
   "cell_type": "code",
   "execution_count": 34,
   "id": "cb9a36eb-ca41-4d3e-8e60-ef7b51a6d347",
   "metadata": {},
   "outputs": [
    {
     "data": {
      "image/png": "[encoded data removed]",
      "text/plain": [
       "<Figure size 720x720 with 1 Axes>"
      ]
     },
     "metadata": {
      "needs_background": "light"
     },
     "output_type": "display_data"
    }
   ],
   "source": [
    "plt.figure(figsize=(10,10))\n",
    "show_group_by(\"Airline\")"
   ]
  },
  {
   "cell_type": "code",
   "execution_count": 28,
   "id": "00907fca-fce5-49a6-be65-08dd88a10758",
   "metadata": {},
   "outputs": [
    {
     "data": {
      "text/plain": [
       "<seaborn.axisgrid.FacetGrid at 0x7f976f17fcd0>"
      ]
     },
     "execution_count": 28,
     "metadata": {},
     "output_type": "execute_result"
    },
    {
     "data": {
      "image/png": "[encoded data removed]",
      "text/plain": [
       "<Figure size 360x360 with 1 Axes>"
      ]
     },
     "metadata": {
      "needs_background": "light"
     },
     "output_type": "display_data"
    }
   ],
   "source": [
    "sns.catplot(x = \"DayOfWeek\", y = \"ArrDelayMinutes\", kind = \"bar\", data = data_2018)"
   ]
  },
  {
   "cell_type": "code",
   "execution_count": 30,
   "id": "5680ef98-2db9-4f54-ae5c-6d317a65994b",
   "metadata": {},
   "outputs": [
    {
     "name": "stdout",
     "output_type": "stream",
     "text": [
      "CPU times: user 15 s, sys: 13.4 s, total: 28.4 s\n",
      "Wall time: 32.4 s\n"
     ]
    },
    {
     "data": {
      "text/plain": [
       "<seaborn.axisgrid.FacetGrid at 0x7f97678237f0>"
      ]
     },
     "execution_count": 30,
     "metadata": {},
     "output_type": "execute_result"
    },
    {
     "data": {
      "image/png": "[encoded data removed]",
      "text/plain": [
       "<Figure size 360x360 with 1 Axes>"
      ]
     },
     "metadata": {
      "needs_background": "light"
     },
     "output_type": "display_data"
    }
   ],
   "source": [
    "%%time\n",
    "sns.catplot(x = \"Airline\", y = \"ArrDelayMinutes\", kind = \"box\", data = data_2018)"
   ]
  },
  {
   "cell_type": "code",
   "execution_count": 32,
   "id": "cb8b9d01-1317-4757-b1c2-2f9f9870d248",
   "metadata": {},
   "outputs": [],
   "source": [
    "def show_group_by(groupby, interested_values = \"ArrDelayMinutes\" , data = data_2018):\n",
    "    mean = data.groupby(groupby)[interested_values].mean().sort_values()\n",
    "    df = mean.to_frame()\n",
    "    df[groupby] = df.index\n",
    "    std = data.groupby(groupby)[interested_values].std()\n",
    "    df[\"std\"] = std.values\n",
    "    # plt.barh(df[groupby], df[interested_values], xerr = df[\"std\"])\n",
    "    plt.barh(df[groupby], df[interested_values])"
   ]
  },
  {
   "cell_type": "code",
   "execution_count": null,
   "id": "679b7e10-48d3-4dce-addf-c9cacc090f25",
   "metadata": {},
   "outputs": [],
   "source": [
    "plt.figure(figsize=(10,100))\n",
    "show_group_by(\"Origin\")"
   ]
  },
  {
   "cell_type": "markdown",
   "id": "8894de4e-571b-4f50-b4e3-d35f869daa0d",
   "metadata": {},
   "source": [
    "## Let's try one big boy linear regression"
   ]
  },
  {
   "cell_type": "markdown",
   "id": "443eaa03-9514-4dea-9efc-bcaa2e04257c",
   "metadata": {},
   "source": [
    "### Frist try using regressor with a bit too much data\n",
    "trying to predict whether a specific flight will be delayed by more than 30 mins or not"
   ]
  },
  {
   "cell_type": "code",
   "execution_count": 12,
   "id": "07bbb835-baa5-4af2-957f-9a93760ce078",
   "metadata": {},
   "outputs": [
    {
     "name": "stdout",
     "output_type": "stream",
     "text": [
      "CPU times: user 13.1 s, sys: 7.09 s, total: 20.2 s\n",
      "Wall time: 24.2 s\n"
     ]
    },
    {
     "data": {
      "text/html": [
       "<div>\n",
       "<style scoped>\n",
       "    .dataframe tbody tr th:only-of-type {\n",
       "        vertical-align: middle;\n",
       "    }\n",
       "\n",
       "    .dataframe tbody tr th {\n",
       "        vertical-align: top;\n",
       "    }\n",
       "\n",
       "    .dataframe thead th {\n",
       "        text-align: right;\n",
       "    }\n",
       "</style>\n",
       "<table border=\"1\" class=\"dataframe\">\n",
       "  <thead>\n",
       "    <tr style=\"text-align: right;\">\n",
       "      <th></th>\n",
       "      <th>FlightDate</th>\n",
       "      <th>Airline</th>\n",
       "      <th>Origin</th>\n",
       "      <th>Dest</th>\n",
       "      <th>Distance</th>\n",
       "      <th>Quarter</th>\n",
       "      <th>Month</th>\n",
       "      <th>DayofMonth</th>\n",
       "      <th>DayOfWeek</th>\n",
       "      <th>Operating_Airline</th>\n",
       "    </tr>\n",
       "  </thead>\n",
       "  <tbody>\n",
       "    <tr>\n",
       "      <th>2714357</th>\n",
       "      <td>2018-03-19</td>\n",
       "      <td>United Air Lines Inc.</td>\n",
       "      <td>IAH</td>\n",
       "      <td>EWR</td>\n",
       "      <td>1400.0</td>\n",
       "      <td>1</td>\n",
       "      <td>3</td>\n",
       "      <td>19</td>\n",
       "      <td>1</td>\n",
       "      <td>UA</td>\n",
       "    </tr>\n",
       "    <tr>\n",
       "      <th>1678409</th>\n",
       "      <td>2018-11-22</td>\n",
       "      <td>American Airlines Inc.</td>\n",
       "      <td>DFW</td>\n",
       "      <td>BDL</td>\n",
       "      <td>1471.0</td>\n",
       "      <td>4</td>\n",
       "      <td>11</td>\n",
       "      <td>22</td>\n",
       "      <td>4</td>\n",
       "      <td>AA</td>\n",
       "    </tr>\n",
       "    <tr>\n",
       "      <th>3996488</th>\n",
       "      <td>2018-06-14</td>\n",
       "      <td>Southwest Airlines Co.</td>\n",
       "      <td>TPA</td>\n",
       "      <td>MDW</td>\n",
       "      <td>997.0</td>\n",
       "      <td>2</td>\n",
       "      <td>6</td>\n",
       "      <td>14</td>\n",
       "      <td>4</td>\n",
       "      <td>WN</td>\n",
       "    </tr>\n",
       "    <tr>\n",
       "      <th>2867409</th>\n",
       "      <td>2018-03-01</td>\n",
       "      <td>Southwest Airlines Co.</td>\n",
       "      <td>DAL</td>\n",
       "      <td>MAF</td>\n",
       "      <td>319.0</td>\n",
       "      <td>1</td>\n",
       "      <td>3</td>\n",
       "      <td>1</td>\n",
       "      <td>4</td>\n",
       "      <td>WN</td>\n",
       "    </tr>\n",
       "    <tr>\n",
       "      <th>2334386</th>\n",
       "      <td>2018-12-06</td>\n",
       "      <td>Endeavor Air Inc.</td>\n",
       "      <td>TYS</td>\n",
       "      <td>DTW</td>\n",
       "      <td>443.0</td>\n",
       "      <td>4</td>\n",
       "      <td>12</td>\n",
       "      <td>6</td>\n",
       "      <td>4</td>\n",
       "      <td>9E</td>\n",
       "    </tr>\n",
       "    <tr>\n",
       "      <th>...</th>\n",
       "      <td>...</td>\n",
       "      <td>...</td>\n",
       "      <td>...</td>\n",
       "      <td>...</td>\n",
       "      <td>...</td>\n",
       "      <td>...</td>\n",
       "      <td>...</td>\n",
       "      <td>...</td>\n",
       "      <td>...</td>\n",
       "      <td>...</td>\n",
       "    </tr>\n",
       "    <tr>\n",
       "      <th>548031</th>\n",
       "      <td>2018-10-29</td>\n",
       "      <td>Southwest Airlines Co.</td>\n",
       "      <td>BWI</td>\n",
       "      <td>BOS</td>\n",
       "      <td>369.0</td>\n",
       "      <td>4</td>\n",
       "      <td>10</td>\n",
       "      <td>29</td>\n",
       "      <td>1</td>\n",
       "      <td>WN</td>\n",
       "    </tr>\n",
       "    <tr>\n",
       "      <th>4417876</th>\n",
       "      <td>2018-07-09</td>\n",
       "      <td>Southwest Airlines Co.</td>\n",
       "      <td>BOS</td>\n",
       "      <td>ATL</td>\n",
       "      <td>946.0</td>\n",
       "      <td>3</td>\n",
       "      <td>7</td>\n",
       "      <td>9</td>\n",
       "      <td>1</td>\n",
       "      <td>WN</td>\n",
       "    </tr>\n",
       "    <tr>\n",
       "      <th>785135</th>\n",
       "      <td>2018-10-25</td>\n",
       "      <td>Envoy Air</td>\n",
       "      <td>RIC</td>\n",
       "      <td>ORD</td>\n",
       "      <td>642.0</td>\n",
       "      <td>4</td>\n",
       "      <td>10</td>\n",
       "      <td>25</td>\n",
       "      <td>4</td>\n",
       "      <td>MQ</td>\n",
       "    </tr>\n",
       "    <tr>\n",
       "      <th>2614142</th>\n",
       "      <td>2018-02-13</td>\n",
       "      <td>Southwest Airlines Co.</td>\n",
       "      <td>SFO</td>\n",
       "      <td>LAS</td>\n",
       "      <td>414.0</td>\n",
       "      <td>1</td>\n",
       "      <td>2</td>\n",
       "      <td>13</td>\n",
       "      <td>2</td>\n",
       "      <td>WN</td>\n",
       "    </tr>\n",
       "    <tr>\n",
       "      <th>3037203</th>\n",
       "      <td>2018-04-21</td>\n",
       "      <td>ExpressJet Airlines Inc.</td>\n",
       "      <td>XNA</td>\n",
       "      <td>ATL</td>\n",
       "      <td>589.0</td>\n",
       "      <td>2</td>\n",
       "      <td>4</td>\n",
       "      <td>21</td>\n",
       "      <td>6</td>\n",
       "      <td>EV</td>\n",
       "    </tr>\n",
       "  </tbody>\n",
       "</table>\n",
       "<p>3905032 rows × 10 columns</p>\n",
       "</div>"
      ],
      "text/plain": [
       "         FlightDate                   Airline Origin Dest  Distance  Quarter  \\\n",
       "2714357  2018-03-19     United Air Lines Inc.    IAH  EWR    1400.0        1   \n",
       "1678409  2018-11-22    American Airlines Inc.    DFW  BDL    1471.0        4   \n",
       "3996488  2018-06-14    Southwest Airlines Co.    TPA  MDW     997.0        2   \n",
       "2867409  2018-03-01    Southwest Airlines Co.    DAL  MAF     319.0        1   \n",
       "2334386  2018-12-06         Endeavor Air Inc.    TYS  DTW     443.0        4   \n",
       "...             ...                       ...    ...  ...       ...      ...   \n",
       "548031   2018-10-29    Southwest Airlines Co.    BWI  BOS     369.0        4   \n",
       "4417876  2018-07-09    Southwest Airlines Co.    BOS  ATL     946.0        3   \n",
       "785135   2018-10-25                 Envoy Air    RIC  ORD     642.0        4   \n",
       "2614142  2018-02-13    Southwest Airlines Co.    SFO  LAS     414.0        1   \n",
       "3037203  2018-04-21  ExpressJet Airlines Inc.    XNA  ATL     589.0        2   \n",
       "\n",
       "         Month  DayofMonth  DayOfWeek Operating_Airline  \n",
       "2714357      3          19          1                UA  \n",
       "1678409     11          22          4                AA  \n",
       "3996488      6          14          4                WN  \n",
       "2867409      3           1          4                WN  \n",
       "2334386     12           6          4                9E  \n",
       "...        ...         ...        ...               ...  \n",
       "548031      10          29          1                WN  \n",
       "4417876      7           9          1                WN  \n",
       "785135      10          25          4                MQ  \n",
       "2614142      2          13          2                WN  \n",
       "3037203      4          21          6                EV  \n",
       "\n",
       "[3905032 rows x 10 columns]"
      ]
     },
     "execution_count": 12,
     "metadata": {},
     "output_type": "execute_result"
    }
   ],
   "source": [
    "%%time\n",
    "#split 30-70 test-train data of columns i care about\n",
    "data_2018 = data_2018.dropna()\n",
    "data_lr = data_2018.filter(['FlightDate', 'Airline', 'Origin', 'Dest',\n",
    "       'Distance', 'Quarter', 'Month', 'DayofMonth', 'DayOfWeek',\n",
    "       'Operating_Airline'])\n",
    "# data_lr = data_lr.dropna()\n",
    "target_lr = data_2018[\"ArrDelayMinutes\"]\n",
    "# target_lr = target_lr.dropna()\n",
    "train_data, test_data, train_target, test_target = train_test_split(\n",
    "    data_lr, target_lr, test_size=0.3, random_state=999)\n",
    "train_data"
   ]
  },
  {
   "cell_type": "code",
   "execution_count": 19,
   "id": "965012a0-c28d-4e42-97b9-e4191be2b4ea",
   "metadata": {},
   "outputs": [],
   "source": [
    "train_target_cat = train_target > 30\n",
    "test_target_cat = test_target > 30"
   ]
  },
  {
   "cell_type": "code",
   "execution_count": 41,
   "id": "9972a2d7-2f38-4c73-b658-0e37d27fd11d",
   "metadata": {},
   "outputs": [
    {
     "data": {
      "text/plain": [
       "0.18312143165571174"
      ]
     },
     "execution_count": 41,
     "metadata": {},
     "output_type": "execute_result"
    }
   ],
   "source": [
    "sum(train_target_cat) / len(train_target_cat)\n",
    "# len(encoded_test_data)"
   ]
  },
  {
   "cell_type": "code",
   "execution_count": 4,
   "id": "78d61ffc-f64d-4f40-926a-d56c91d984ff",
   "metadata": {},
   "outputs": [
    {
     "name": "stdout",
     "output_type": "stream",
     "text": [
      "CPU times: user 44.3 s, sys: 1min 18s, total: 2min 2s\n",
      "Wall time: 2min 44s\n"
     ]
    }
   ],
   "source": [
    "%%time\n",
    "categorical = ['FlightDate', 'Airline', 'Origin', 'Dest','Operating_Airline']\n",
    "numerical = ['Distance', 'Quarter', 'Month', 'DayofMonth', 'DayOfWeek']\n",
    "\n",
    "\n",
    "\n",
    "#OneHotEncoder might make the traing too large and make the fitting take a very long time\n",
    "\n",
    "encoded_train_data = np.append(OneHotEncoder().fit_transform(train_data[categorical].values).toarray(),\n",
    "       train_data[numerical], axis =1)\n",
    "encoded_test_data = np.append(OneHotEncoder().fit_transform(test_data[categorical].values).toarray(),\n",
    "       test_data[numerical], axis =1)\n"
   ]
  },
  {
   "cell_type": "code",
   "execution_count": null,
   "id": "2236c55d-a502-416f-8662-1b2b3f56b16a",
   "metadata": {},
   "outputs": [],
   "source": [
    "# print(len(encoded_train_data))\n",
    "# encoded_train_data = encoded_train_data[encoded_train_data.notnull()]\n",
    "# print(len(encoded_train_data))\n",
    "# print(encoded_train_data)"
   ]
  },
  {
   "cell_type": "code",
   "execution_count": null,
   "id": "c71f897e-e063-43ce-8c75-89c3df80fa2c",
   "metadata": {},
   "outputs": [],
   "source": [
    "%%time\n",
    "\n",
    "model = LogisticRegression(max_iter=1000)\n",
    "model.fit(encoded_train_data, train_target_cat)\n",
    "print(\"Done fitting\")\n",
    "test_target_cat.to_frame()\n",
    "train_target_cat.to_frame()\n",
    "test_target_cat[\"predicted\"] = model.predict(test_data)\n",
    "train_target_cat[\"predicted\"] = model.predict(train_data)\n",
    "\n",
    "print(\"done mate\")\n",
    "# mse_train = mean_squared_error(train_target[\"ArrDelayMinutes\"].values ,train_target[\"predicted\"].values )\n",
    "# mse_test = mean_squared_error(test_target[\"ArrDelayMinutes\"].values ,test_target[\"predicted\"].values )\n",
    "\n",
    "# print(mse_train, mse_test)"
   ]
  },
  {
   "cell_type": "markdown",
   "id": "424149ef-c64d-437c-9c88-a42e1a93d89f",
   "metadata": {},
   "source": [
    "## Try just one airline"
   ]
  },
  {
   "cell_type": "code",
   "execution_count": 69,
   "id": "1c2dc629-6fec-447f-ad10-03c7f34009ed",
   "metadata": {},
   "outputs": [
    {
     "name": "stdout",
     "output_type": "stream",
     "text": [
      "CPU times: user 730 ms, sys: 191 ms, total: 921 ms\n",
      "Wall time: 952 ms\n"
     ]
    }
   ],
   "source": [
    "%%time\n",
    "#split 30-70 test-train data of columns i care about\n",
    "data_2018 = data_2018[data_2018[\"Airline\"] == \"JetBlue Airways\"].dropna()\n",
    "data_lr = data_2018.filter([ 'Origin', 'Dest',\n",
    "       'Distance', 'Quarter', 'Month', 'DayofMonth', 'DayOfWeek \n",
    "target_lr = data_2018[\"ArrDelayMinutes\"]\n",
    "# target_lr = target_lr.dropna()\n",
    "train_data, test_data, train_target, test_target = train_test_split(\n",
    "    data_lr, target_lr, test_size=0.3, random_state=999)\n",
    "train_data\n",
    "train_target_cat = train_target > 30\n",
    "test_target_cat = test_target > 30"
   ]
  },
  {
   "cell_type": "code",
   "execution_count": 70,
   "id": "a5afc259-099f-4f75-9f26-a25592d104f9",
   "metadata": {},
   "outputs": [
    {
     "name": "stdout",
     "output_type": "stream",
     "text": [
      "CPU times: user 361 ms, sys: 274 ms, total: 635 ms\n",
      "Wall time: 743 ms\n"
     ]
    },
    {
     "data": {
      "text/plain": [
       "208430"
      ]
     },
     "execution_count": 70,
     "metadata": {},
     "output_type": "execute_result"
    }
   ],
   "source": [
    "%%time\n",
    "categorical = ['Origin', 'Dest']\n",
    "numerical = ['Distance', 'Quarter', 'Month', 'DayofMonth', 'DayOfWeek']\n",
    "\n",
    "#OneHotEncoder might make the traing too large and make the fitting take a very long time\n",
    "\n",
    "encoded_train_data = np.append(OneHotEncoder().fit_transform(train_data[categorical].values).toarray(),\n",
    "       train_data[numerical].values, axis =1)\n",
    "encoded_test_data = np.append(OneHotEncoder().fit_transform(test_data[categorical].values).toarray(),\n",
    "       test_data[numerical].values, axis =1)\n",
    "\n",
    "len(encoded_train_data)"
   ]
  },
  {
   "cell_type": "code",
   "execution_count": 71,
   "id": "e04110e1-f5f2-4376-bbbd-e2c2930b4084",
   "metadata": {},
   "outputs": [
    {
     "name": "stdout",
     "output_type": "stream",
     "text": [
      "Done fitting\n",
      "CPU times: user 14.4 s, sys: 99.6 ms, total: 14.5 s\n",
      "Wall time: 3.79 s\n"
     ]
    }
   ],
   "source": [
    "%%time\n",
    "\n",
    "model = LogisticRegression(max_iter=1000)\n",
    "model.fit(encoded_train_data, train_target_cat)\n",
    "print(\"Done fitting\")\n",
    "# test_target_cat.to_frame()\n",
    "# train_target_cat.to_frame()\n",
    "# test_target_cat[\"predicted\"] = model.predict(encoded_test_data)\n",
    "# train_target_cat[\"predicted\"] = model.predict(encoded_train_data)\n",
    "# print(\"done mate\")"
   ]
  },
  {
   "cell_type": "code",
   "execution_count": 75,
   "id": "95ef46ac-7f9f-4327-8c4f-cd4068759a04",
   "metadata": {},
   "outputs": [
    {
     "name": "stdout",
     "output_type": "stream",
     "text": [
      "train acc:  0.8168785683442883\n",
      "test acc:  0.8142351782195952\n",
      "dummy acc:  0.8142351782195952\n"
     ]
    }
   ],
   "source": [
    "predicted_test=model.predict(encoded_test_data)\n",
    "predicted_train=model.predict(encoded_train_data)\n",
    "#Baseline Model\n",
    "baseline=DummyClassifier(strategy=\"most_frequent\")\n",
    "baseline.fit(encoded_train_data, train_target_cat)\n",
    "predicted_dummy=baseline.predict(encoded_test_data)\n",
    "\n",
    "test_acc = accuracy_score(y_true=test_target_cat, y_pred=predicted_test) \n",
    "train_acc = accuracy_score(y_true=train_target_cat, y_pred=predicted_train)\n",
    "dummy_acc = accuracy_score(y_true=test_target_cat, y_pred=predicted_dummy)\n",
    "\n",
    "print(\"train acc: \", train_acc)\n",
    "print(\"test acc: \", test_acc)\n",
    "print(\"dummy acc: \", dummy_acc)"
   ]
  },
  {
   "cell_type": "markdown",
   "id": "6c5d179d-f869-4bba-9d3e-aa7fb66a0300",
   "metadata": {},
   "source": [
    "## Try KNN"
   ]
  },
  {
   "cell_type": "code",
   "execution_count": 79,
   "id": "adbc45c4-7f89-4656-a045-647f013b2b49",
   "metadata": {},
   "outputs": [
    {
     "name": "stdout",
     "output_type": "stream",
     "text": [
      "CPU times: user 1h 9min 27s, sys: 18.1 s, total: 1h 9min 45s\n",
      "Wall time: 9min 49s\n"
     ]
    },
    {
     "data": {
      "text/html": [
       "<style>#sk-container-id-1 {color: black;background-color: white;}#sk-container-id-1 pre{padding: 0;}#sk-container-id-1 div.sk-toggleable {background-color: white;}#sk-container-id-1 label.sk-toggleable__label {cursor: pointer;display: block;width: 100%;margin-bottom: 0;padding: 0.3em;box-sizing: border-box;text-align: center;}#sk-container-id-1 label.sk-toggleable__label-arrow:before {content: \"▸\";float: left;margin-right: 0.25em;color: #696969;}#sk-container-id-1 label.sk-toggleable__label-arrow:hover:before {color: black;}#sk-container-id-1 div.sk-estimator:hover label.sk-toggleable__label-arrow:before {color: black;}#sk-container-id-1 div.sk-toggleable__content {max-height: 0;max-width: 0;overflow: hidden;text-align: left;background-color: #f0f8ff;}#sk-container-id-1 div.sk-toggleable__content pre {margin: 0.2em;color: black;border-radius: 0.25em;background-color: #f0f8ff;}#sk-container-id-1 input.sk-toggleable__control:checked~div.sk-toggleable__content {max-height: 200px;max-width: 100%;overflow: auto;}#sk-container-id-1 input.sk-toggleable__control:checked~label.sk-toggleable__label-arrow:before {content: \"▾\";}#sk-container-id-1 div.sk-estimator input.sk-toggleable__control:checked~label.sk-toggleable__label {background-color: #d4ebff;}#sk-container-id-1 div.sk-label input.sk-toggleable__control:checked~label.sk-toggleable__label {background-color: #d4ebff;}#sk-container-id-1 input.sk-hidden--visually {border: 0;clip: rect(1px 1px 1px 1px);clip: rect(1px, 1px, 1px, 1px);height: 1px;margin: -1px;overflow: hidden;padding: 0;position: absolute;width: 1px;}#sk-container-id-1 div.sk-estimator {font-family: monospace;background-color: #f0f8ff;border: 1px dotted black;border-radius: 0.25em;box-sizing: border-box;margin-bottom: 0.5em;}#sk-container-id-1 div.sk-estimator:hover {background-color: #d4ebff;}#sk-container-id-1 div.sk-parallel-item::after {content: \"\";width: 100%;border-bottom: 1px solid gray;flex-grow: 1;}#sk-container-id-1 div.sk-label:hover label.sk-toggleable__label {background-color: #d4ebff;}#sk-container-id-1 div.sk-serial::before {content: \"\";position: absolute;border-left: 1px solid gray;box-sizing: border-box;top: 0;bottom: 0;left: 50%;z-index: 0;}#sk-container-id-1 div.sk-serial {display: flex;flex-direction: column;align-items: center;background-color: white;padding-right: 0.2em;padding-left: 0.2em;position: relative;}#sk-container-id-1 div.sk-item {position: relative;z-index: 1;}#sk-container-id-1 div.sk-parallel {display: flex;align-items: stretch;justify-content: center;background-color: white;position: relative;}#sk-container-id-1 div.sk-item::before, #sk-container-id-1 div.sk-parallel-item::before {content: \"\";position: absolute;border-left: 1px solid gray;box-sizing: border-box;top: 0;bottom: 0;left: 50%;z-index: -1;}#sk-container-id-1 div.sk-parallel-item {display: flex;flex-direction: column;z-index: 1;position: relative;background-color: white;}#sk-container-id-1 div.sk-parallel-item:first-child::after {align-self: flex-end;width: 50%;}#sk-container-id-1 div.sk-parallel-item:last-child::after {align-self: flex-start;width: 50%;}#sk-container-id-1 div.sk-parallel-item:only-child::after {width: 0;}#sk-container-id-1 div.sk-dashed-wrapped {border: 1px dashed gray;margin: 0 0.4em 0.5em 0.4em;box-sizing: border-box;padding-bottom: 0.4em;background-color: white;}#sk-container-id-1 div.sk-label label {font-family: monospace;font-weight: bold;display: inline-block;line-height: 1.2em;}#sk-container-id-1 div.sk-label-container {text-align: center;}#sk-container-id-1 div.sk-container {/* jupyter's `normalize.less` sets `[hidden] { display: none; }` but bootstrap.min.css set `[hidden] { display: none !important; }` so we also need the `!important` here to be able to override the default hidden behavior on the sphinx rendered scikit-learn.org. See: https://github.com/scikit-learn/scikit-learn/issues/21755 */display: inline-block !important;position: relative;}#sk-container-id-1 div.sk-text-repr-fallback {display: none;}</style><div id=\"sk-container-id-1\" class=\"sk-top-container\"><div class=\"sk-text-repr-fallback\"><pre>GridSearchCV(estimator=KNeighborsClassifier(),\n",
       "             param_grid={&#x27;n_neighbors&#x27;: range(2, 21, 3)})</pre><b>In a Jupyter environment, please rerun this cell to show the HTML representation or trust the notebook. <br />On GitHub, the HTML representation is unable to render, please try loading this page with nbviewer.org.</b></div><div class=\"sk-container\" hidden><div class=\"sk-item sk-dashed-wrapped\"><div class=\"sk-label-container\"><div class=\"sk-label sk-toggleable\"><input class=\"sk-toggleable__control sk-hidden--visually\" id=\"sk-estimator-id-1\" type=\"checkbox\" ><label for=\"sk-estimator-id-1\" class=\"sk-toggleable__label sk-toggleable__label-arrow\">GridSearchCV</label><div class=\"sk-toggleable__content\"><pre>GridSearchCV(estimator=KNeighborsClassifier(),\n",
       "             param_grid={&#x27;n_neighbors&#x27;: range(2, 21, 3)})</pre></div></div></div><div class=\"sk-parallel\"><div class=\"sk-parallel-item\"><div class=\"sk-item\"><div class=\"sk-label-container\"><div class=\"sk-label sk-toggleable\"><input class=\"sk-toggleable__control sk-hidden--visually\" id=\"sk-estimator-id-2\" type=\"checkbox\" ><label for=\"sk-estimator-id-2\" class=\"sk-toggleable__label sk-toggleable__label-arrow\">estimator: KNeighborsClassifier</label><div class=\"sk-toggleable__content\"><pre>KNeighborsClassifier()</pre></div></div></div><div class=\"sk-serial\"><div class=\"sk-item\"><div class=\"sk-estimator sk-toggleable\"><input class=\"sk-toggleable__control sk-hidden--visually\" id=\"sk-estimator-id-3\" type=\"checkbox\" ><label for=\"sk-estimator-id-3\" class=\"sk-toggleable__label sk-toggleable__label-arrow\">KNeighborsClassifier</label><div class=\"sk-toggleable__content\"><pre>KNeighborsClassifier()</pre></div></div></div></div></div></div></div></div></div></div>"
      ],
      "text/plain": [
       "GridSearchCV(estimator=KNeighborsClassifier(),\n",
       "             param_grid={'n_neighbors': range(2, 21, 3)})"
      ]
     },
     "execution_count": 79,
     "metadata": {},
     "output_type": "execute_result"
    }
   ],
   "source": [
    "%%time\n",
    "#split 30-70 test-train data of columns i care about\n",
    "data_2018 = data_2018[data_2018[\"Airline\"] == \"JetBlue Airways\"].dropna()\n",
    "data_lr = data_2018.filter([ 'Origin', 'Dest',\n",
    "       'Distance', 'Quarter', 'Month', 'DayofMonth', 'DayOfWeek'])\n",
    "# data_lr = data_lr.dropna()\n",
    "target_lr = data_2018[\"ArrDelayMinutes\"]\n",
    "# target_lr = target_lr.dropna()\n",
    "train_data, test_data, train_target, test_target = train_test_split(\n",
    "    data_lr, target_lr, test_size=0.3, random_state=999)\n",
    "train_data\n",
    "train_target_cat = train_target > 30\n",
    "test_target_cat = test_target > 30\n",
    "\n",
    "categorical = ['Origin', 'Dest']\n",
    "numerical = ['Distance', 'Quarter', 'Month', 'DayofMonth', 'DayOfWeek']\n",
    "\n",
    "#OneHotEncoder might make the traing too large and make the fitting take a very long time\n",
    "\n",
    "encoded_train_data = np.append(OneHotEncoder().fit_transform(train_data[categorical].values).toarray(),\n",
    "       train_data[numerical].values, axis =1)\n",
    "encoded_test_data = np.append(OneHotEncoder().fit_transform(test_data[categorical].values).toarray(),\n",
    "       test_data[numerical].values, axis =1)\n",
    "\n",
    "params_to_try = {'n_neighbors': range(2, 21, 3)}\n",
    "knn_search = GridSearchCV(estimator=KNeighborsClassifier(), param_grid=params_to_try)\n",
    "knn_search.fit(encoded_train_data, train_target_cat)"
   ]
  },
  {
   "cell_type": "code",
   "execution_count": 80,
   "id": "01218b2b-ae67-4f2f-8711-6de510139df9",
   "metadata": {},
   "outputs": [
    {
     "name": "stdout",
     "output_type": "stream",
     "text": [
      "Optimal n_neighors: 20\n",
      "Accuracy on testing data: 0.8151307540748701\n"
     ]
    }
   ],
   "source": [
    "q4_n = knn_search.best_params_['n_neighbors'] # int: n_neighbors\n",
    "q4_score = knn_search.score(encoded_test_data, test_target_cat) # float: test accuracy score of the k nearest neighbor model\n",
    "\n",
    "# Leave these lines here to print the result\n",
    "print(\"Optimal n_neighors:\", q4_n)\n",
    "print(\"Accuracy on testing data:\", q4_score)"
   ]
  },
  {
   "cell_type": "code",
   "execution_count": 81,
   "id": "45e0ea0f-f446-4c38-a196-2f0a73883ff1",
   "metadata": {},
   "outputs": [
    {
     "data": {
      "text/html": [
       "<style>#sk-container-id-2 {color: black;background-color: white;}#sk-container-id-2 pre{padding: 0;}#sk-container-id-2 div.sk-toggleable {background-color: white;}#sk-container-id-2 label.sk-toggleable__label {cursor: pointer;display: block;width: 100%;margin-bottom: 0;padding: 0.3em;box-sizing: border-box;text-align: center;}#sk-container-id-2 label.sk-toggleable__label-arrow:before {content: \"▸\";float: left;margin-right: 0.25em;color: #696969;}#sk-container-id-2 label.sk-toggleable__label-arrow:hover:before {color: black;}#sk-container-id-2 div.sk-estimator:hover label.sk-toggleable__label-arrow:before {color: black;}#sk-container-id-2 div.sk-toggleable__content {max-height: 0;max-width: 0;overflow: hidden;text-align: left;background-color: #f0f8ff;}#sk-container-id-2 div.sk-toggleable__content pre {margin: 0.2em;color: black;border-radius: 0.25em;background-color: #f0f8ff;}#sk-container-id-2 input.sk-toggleable__control:checked~div.sk-toggleable__content {max-height: 200px;max-width: 100%;overflow: auto;}#sk-container-id-2 input.sk-toggleable__control:checked~label.sk-toggleable__label-arrow:before {content: \"▾\";}#sk-container-id-2 div.sk-estimator input.sk-toggleable__control:checked~label.sk-toggleable__label {background-color: #d4ebff;}#sk-container-id-2 div.sk-label input.sk-toggleable__control:checked~label.sk-toggleable__label {background-color: #d4ebff;}#sk-container-id-2 input.sk-hidden--visually {border: 0;clip: rect(1px 1px 1px 1px);clip: rect(1px, 1px, 1px, 1px);height: 1px;margin: -1px;overflow: hidden;padding: 0;position: absolute;width: 1px;}#sk-container-id-2 div.sk-estimator {font-family: monospace;background-color: #f0f8ff;border: 1px dotted black;border-radius: 0.25em;box-sizing: border-box;margin-bottom: 0.5em;}#sk-container-id-2 div.sk-estimator:hover {background-color: #d4ebff;}#sk-container-id-2 div.sk-parallel-item::after {content: \"\";width: 100%;border-bottom: 1px solid gray;flex-grow: 1;}#sk-container-id-2 div.sk-label:hover label.sk-toggleable__label {background-color: #d4ebff;}#sk-container-id-2 div.sk-serial::before {content: \"\";position: absolute;border-left: 1px solid gray;box-sizing: border-box;top: 0;bottom: 0;left: 50%;z-index: 0;}#sk-container-id-2 div.sk-serial {display: flex;flex-direction: column;align-items: center;background-color: white;padding-right: 0.2em;padding-left: 0.2em;position: relative;}#sk-container-id-2 div.sk-item {position: relative;z-index: 1;}#sk-container-id-2 div.sk-parallel {display: flex;align-items: stretch;justify-content: center;background-color: white;position: relative;}#sk-container-id-2 div.sk-item::before, #sk-container-id-2 div.sk-parallel-item::before {content: \"\";position: absolute;border-left: 1px solid gray;box-sizing: border-box;top: 0;bottom: 0;left: 50%;z-index: -1;}#sk-container-id-2 div.sk-parallel-item {display: flex;flex-direction: column;z-index: 1;position: relative;background-color: white;}#sk-container-id-2 div.sk-parallel-item:first-child::after {align-self: flex-end;width: 50%;}#sk-container-id-2 div.sk-parallel-item:last-child::after {align-self: flex-start;width: 50%;}#sk-container-id-2 div.sk-parallel-item:only-child::after {width: 0;}#sk-container-id-2 div.sk-dashed-wrapped {border: 1px dashed gray;margin: 0 0.4em 0.5em 0.4em;box-sizing: border-box;padding-bottom: 0.4em;background-color: white;}#sk-container-id-2 div.sk-label label {font-family: monospace;font-weight: bold;display: inline-block;line-height: 1.2em;}#sk-container-id-2 div.sk-label-container {text-align: center;}#sk-container-id-2 div.sk-container {/* jupyter's `normalize.less` sets `[hidden] { display: none; }` but bootstrap.min.css set `[hidden] { display: none !important; }` so we also need the `!important` here to be able to override the default hidden behavior on the sphinx rendered scikit-learn.org. See: https://github.com/scikit-learn/scikit-learn/issues/21755 */display: inline-block !important;position: relative;}#sk-container-id-2 div.sk-text-repr-fallback {display: none;}</style><div id=\"sk-container-id-2\" class=\"sk-top-container\"><div class=\"sk-text-repr-fallback\"><pre>GridSearchCV(estimator=KNeighborsRegressor(),\n",
       "             param_grid={&#x27;n_neighbors&#x27;: range(20, 101, 20)})</pre><b>In a Jupyter environment, please rerun this cell to show the HTML representation or trust the notebook. <br />On GitHub, the HTML representation is unable to render, please try loading this page with nbviewer.org.</b></div><div class=\"sk-container\" hidden><div class=\"sk-item sk-dashed-wrapped\"><div class=\"sk-label-container\"><div class=\"sk-label sk-toggleable\"><input class=\"sk-toggleable__control sk-hidden--visually\" id=\"sk-estimator-id-4\" type=\"checkbox\" ><label for=\"sk-estimator-id-4\" class=\"sk-toggleable__label sk-toggleable__label-arrow\">GridSearchCV</label><div class=\"sk-toggleable__content\"><pre>GridSearchCV(estimator=KNeighborsRegressor(),\n",
       "             param_grid={&#x27;n_neighbors&#x27;: range(20, 101, 20)})</pre></div></div></div><div class=\"sk-parallel\"><div class=\"sk-parallel-item\"><div class=\"sk-item\"><div class=\"sk-label-container\"><div class=\"sk-label sk-toggleable\"><input class=\"sk-toggleable__control sk-hidden--visually\" id=\"sk-estimator-id-5\" type=\"checkbox\" ><label for=\"sk-estimator-id-5\" class=\"sk-toggleable__label sk-toggleable__label-arrow\">estimator: KNeighborsRegressor</label><div class=\"sk-toggleable__content\"><pre>KNeighborsRegressor()</pre></div></div></div><div class=\"sk-serial\"><div class=\"sk-item\"><div class=\"sk-estimator sk-toggleable\"><input class=\"sk-toggleable__control sk-hidden--visually\" id=\"sk-estimator-id-6\" type=\"checkbox\" ><label for=\"sk-estimator-id-6\" class=\"sk-toggleable__label sk-toggleable__label-arrow\">KNeighborsRegressor</label><div class=\"sk-toggleable__content\"><pre>KNeighborsRegressor()</pre></div></div></div></div></div></div></div></div></div></div>"
      ],
      "text/plain": [
       "GridSearchCV(estimator=KNeighborsRegressor(),\n",
       "             param_grid={'n_neighbors': range(20, 101, 20)})"
      ]
     },
     "execution_count": 81,
     "metadata": {},
     "output_type": "execute_result"
    }
   ],
   "source": [
    "#knn regressor\n",
    "\n",
    "params_to_try = {'n_neighbors': range(20, 101, 20)}\n",
    "knn_r_search = GridSearchCV(estimator=KNeighborsRegressor(), param_grid=params_to_try)\n",
    "knn_r_search.fit(encoded_train_data, train_target)"
   ]
  },
  {
   "cell_type": "code",
   "execution_count": 84,
   "id": "25dc678c-cfc3-4059-b20e-9b986b8f6d70",
   "metadata": {},
   "outputs": [
    {
     "data": {
      "text/plain": [
       "0.06551796831890189"
      ]
     },
     "execution_count": 84,
     "metadata": {},
     "output_type": "execute_result"
    }
   ],
   "source": [
    "# mse = mean_squared_error(tips[\"tip\"].values, tips[\"tips_predicted\"].values)\n",
    "knn_r_search.score(encoded_test_data, test_target)"
   ]
  },
  {
   "cell_type": "code",
   "execution_count": 88,
   "id": "b1c2b321-0abc-4d23-80b8-4cb5b1f8339f",
   "metadata": {},
   "outputs": [
    {
     "name": "stdout",
     "output_type": "stream",
     "text": [
      "2049.519984243462 2353.02913914282\n"
     ]
    }
   ],
   "source": [
    "#mse = mean_squared_error(test_target, knn_r_search.predict(encoded_test_data))\n",
    "med=np.full(test_target.shape, np.mean(encoded_train_data))\n",
    "mse_test = mean_squared_error(test_target, med)\n",
    "print(mse, mse_test)"
   ]
  },
  {
   "cell_type": "markdown",
   "id": "146b4510-b2ec-417d-98ae-7a7918b85c2e",
   "metadata": {},
   "source": [
    "## Logisitic more than 0"
   ]
  },
  {
   "cell_type": "code",
   "execution_count": 89,
   "id": "591d6c9d-420b-4719-80f8-94514a65924b",
   "metadata": {},
   "outputs": [
    {
     "name": "stdout",
     "output_type": "stream",
     "text": [
      "CPU times: user 828 ms, sys: 379 ms, total: 1.21 s\n",
      "Wall time: 1.42 s\n"
     ]
    }
   ],
   "source": [
    "%%time\n",
    "#split 30-70 test-train data of columns i care about\n",
    "data_2018 = data_2018[data_2018[\"Airline\"] == \"JetBlue Airways\"].dropna()\n",
    "data_lr = data_2018.filter([ 'Origin', 'Dest',\n",
    "       'Distance', 'Quarter', 'Month', 'DayofMonth', 'DayOfWeek'])\n",
    "# data_lr = data_lr.dropna()\n",
    "target_lr = data_2018[\"ArrDelayMinutes\"]\n",
    "# target_lr = target_lr.dropna()\n",
    "train_data, test_data, train_target, test_target = train_test_split(\n",
    "    data_lr, target_lr, test_size=0.3, random_state=999)\n",
    "train_data\n",
    "train_target_cat = train_target > 0\n",
    "test_target_cat = test_target > 0"
   ]
  },
  {
   "cell_type": "code",
   "execution_count": 90,
   "id": "722a0209-8888-496e-8311-99db014d1a36",
   "metadata": {},
   "outputs": [
    {
     "name": "stdout",
     "output_type": "stream",
     "text": [
      "CPU times: user 385 ms, sys: 301 ms, total: 686 ms\n",
      "Wall time: 709 ms\n"
     ]
    },
    {
     "data": {
      "text/plain": [
       "208430"
      ]
     },
     "execution_count": 90,
     "metadata": {},
     "output_type": "execute_result"
    }
   ],
   "source": [
    "%%time\n",
    "categorical = ['Origin', 'Dest']\n",
    "numerical = ['Distance', 'Quarter', 'Month', 'DayofMonth', 'DayOfWeek']\n",
    "\n",
    "#OneHotEncoder might make the traing too large and make the fitting take a very long time\n",
    "\n",
    "encoded_train_data = np.append(OneHotEncoder().fit_transform(train_data[categorical].values).toarray(),\n",
    "       train_data[numerical].values, axis =1)\n",
    "encoded_test_data = np.append(OneHotEncoder().fit_transform(test_data[categorical].values).toarray(),\n",
    "       test_data[numerical].values, axis =1)\n",
    "\n",
    "len(encoded_train_data)"
   ]
  },
  {
   "cell_type": "code",
   "execution_count": 91,
   "id": "796ce66f-ed92-45b2-942f-33296dcec770",
   "metadata": {},
   "outputs": [
    {
     "name": "stdout",
     "output_type": "stream",
     "text": [
      "Done fitting\n",
      "CPU times: user 6.45 s, sys: 173 ms, total: 6.62 s\n",
      "Wall time: 2.07 s\n"
     ]
    }
   ],
   "source": [
    "%%time\n",
    "\n",
    "model = LogisticRegression(max_iter=1000)\n",
    "model.fit(encoded_train_data, train_target_cat)\n",
    "print(\"Done fitting\")\n",
    "# test_target_cat.to_frame()\n",
    "# train_target_cat.to_frame()\n",
    "# test_target_cat[\"predicted\"] = model.predict(encoded_test_data)\n",
    "# train_target_cat[\"predicted\"] = model.predict(encoded_train_data)\n",
    "# print(\"done mate\")"
   ]
  },
  {
   "cell_type": "code",
   "execution_count": 92,
   "id": "6d388ae6-7d7d-4ba5-b92b-351605cfab5e",
   "metadata": {},
   "outputs": [
    {
     "name": "stdout",
     "output_type": "stream",
     "text": [
      "train acc:  0.5785587487405843\n",
      "test acc:  0.5769971341572632\n",
      "dummy acc:  0.5732021314705356\n"
     ]
    }
   ],
   "source": [
    "predicted_test=model.predict(encoded_test_data)\n",
    "predicted_train=model.predict(encoded_train_data)\n",
    "#Baseline Model\n",
    "baseline=DummyClassifier(strategy=\"most_frequent\")\n",
    "baseline.fit(encoded_train_data, train_target_cat)\n",
    "predicted_dummy=baseline.predict(encoded_test_data)\n",
    "\n",
    "test_acc = accuracy_score(y_true=test_target_cat, y_pred=predicted_test) \n",
    "train_acc = accuracy_score(y_true=train_target_cat, y_pred=predicted_train)\n",
    "dummy_acc = accuracy_score(y_true=test_target_cat, y_pred=predicted_dummy)\n",
    "\n",
    "print(\"train acc: \", train_acc)\n",
    "print(\"test acc: \", test_acc)\n",
    "print(\"dummy acc: \", dummy_acc)"
   ]
  },
  {
   "cell_type": "code",
   "execution_count": null,
   "id": "d05157e2-48ab-4705-af5a-447c0116d0ed",
   "metadata": {},
   "outputs": [],
   "source": []
  }
 ],
 "metadata": {
  "kernelspec": {
   "display_name": "Python 3 (ipykernel)",
   "language": "python",
   "name": "python3"
  },
  "language_info": {
   "codemirror_mode": {
    "name": "ipython",
    "version": 3
   },
   "file_extension": ".py",
   "mimetype": "text/x-python",
   "name": "python",
   "nbconvert_exporter": "python",
   "pygments_lexer": "ipython3",
   "version": "3.10.4"
  }
 },
 "nbformat": 4,
 "nbformat_minor": 5
}
