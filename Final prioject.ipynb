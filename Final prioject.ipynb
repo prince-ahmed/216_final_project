{
 "cells": [
  {
   "cell_type": "code",
   "execution_count": 1,
   "id": "f7fcd6d2-4a44-4b2c-ba35-b24d3a630648",
   "metadata": {},
   "outputs": [],
   "source": [
    "import numpy as np\n",
    "import pandas as pd\n",
    "import seaborn as sns\n",
    "import matplotlib.pyplot as plt\n",
    "from sklearn.linear_model import LogisticRegression\n",
    "from sklearn.metrics import accuracy_score\n",
    "from sklearn.metrics import ConfusionMatrixDisplay\n",
    "from sklearn import metrics\n",
    "from sklearn.model_selection import train_test_split\n",
    "from sklearn.preprocessing import OneHotEncoder\n",
    "from sklearn.linear_model import LinearRegression\n",
    "from sklearn.dummy import DummyClassifier\n",
    "from sklearn.neighbors import KNeighborsClassifier\n",
    "from sklearn.neighbors import KNeighborsRegressor\n",
    "from sklearn.model_selection import GridSearchCV\n",
    "from sklearn.metrics import mean_squared_error\n",
    "from sklearn.svm import SVC\n",
    "from scipy import stats\n",
    "import pickle"
   ]
  },
  {
   "cell_type": "code",
   "execution_count": 2,
   "id": "de571a8b-b1f2-4d4f-99b6-42723f4f41f8",
   "metadata": {},
   "outputs": [
    {
     "name": "stdout",
     "output_type": "stream",
     "text": [
      "CPU times: user 35.9 s, sys: 9.69 s, total: 45.6 s\n",
      "Wall time: 48.1 s\n"
     ]
    }
   ],
   "source": [
    "%%time\n",
    "data =  pd.read_csv(\"aug_jan_flights.csv\")\n",
    "data_2018 = pd.read_csv(\"Combined_Flights_2018.csv\")"
   ]
  },
  {
   "cell_type": "code",
   "execution_count": 3,
   "id": "f4b7a06d-2ecc-46af-872e-40e3fd02ebf1",
   "metadata": {},
   "outputs": [
    {
     "data": {
      "text/plain": [
       "Index(['FlightDate', 'Airline', 'Origin', 'Dest', 'Cancelled', 'Diverted',\n",
       "       'CRSDepTime', 'DepTime', 'DepDelayMinutes', 'DepDelay', 'ArrTime',\n",
       "       'ArrDelayMinutes', 'AirTime', 'CRSElapsedTime', 'ActualElapsedTime',\n",
       "       'Distance', 'Year', 'Quarter', 'Month', 'DayofMonth', 'DayOfWeek',\n",
       "       'Marketing_Airline_Network', 'Operated_or_Branded_Code_Share_Partners',\n",
       "       'DOT_ID_Marketing_Airline', 'IATA_Code_Marketing_Airline',\n",
       "       'Flight_Number_Marketing_Airline', 'Operating_Airline',\n",
       "       'DOT_ID_Operating_Airline', 'IATA_Code_Operating_Airline',\n",
       "       'Tail_Number', 'Flight_Number_Operating_Airline', 'OriginAirportID',\n",
       "       'OriginAirportSeqID', 'OriginCityMarketID', 'OriginCityName',\n",
       "       'OriginState', 'OriginStateFips', 'OriginStateName', 'OriginWac',\n",
       "       'DestAirportID', 'DestAirportSeqID', 'DestCityMarketID', 'DestCityName',\n",
       "       'DestState', 'DestStateFips', 'DestStateName', 'DestWac', 'DepDel15',\n",
       "       'DepartureDelayGroups', 'DepTimeBlk', 'TaxiOut', 'WheelsOff',\n",
       "       'WheelsOn', 'TaxiIn', 'CRSArrTime', 'ArrDelay', 'ArrDel15',\n",
       "       'ArrivalDelayGroups', 'ArrTimeBlk', 'DistanceGroup',\n",
       "       'DivAirportLandings'],\n",
       "      dtype='object')"
      ]
     },
     "execution_count": 3,
     "metadata": {},
     "output_type": "execute_result"
    }
   ],
   "source": [
    "# data_2018.columns"
   ]
  },
  {
   "cell_type": "code",
   "execution_count": 4,
   "id": "2be4ec0a-28f5-45cd-88e2-d9ccfae36f06",
   "metadata": {},
   "outputs": [
    {
     "data": {
      "text/plain": [
       "Index(['MONTH', 'FL_DATE', 'ORIGIN', 'DEST', 'DEP_DELAY', 'DEP_DELAY_NEW',\n",
       "       'DEP_DEL15', 'ARR_DELAY', 'ARR_DELAY_NEW', 'ARR_DEL15', 'DISTANCE',\n",
       "       'CARRIER_DELAY', 'WEATHER_DELAY', 'NAS_DELAY', 'SECURITY_DELAY',\n",
       "       'LATE_AIRCRAFT_DELAY'],\n",
       "      dtype='object')"
      ]
     },
     "execution_count": 4,
     "metadata": {},
     "output_type": "execute_result"
    }
   ],
   "source": [
    "data.columns"
   ]
  },
  {
   "cell_type": "markdown",
   "id": "5f4879ad-6cce-4eaa-8bcb-78e7ea411608",
   "metadata": {},
   "source": [
    "## plots to support Carrier delay being the main contributer to arr delay\n",
    "\n",
    "\n",
    "t-test\n",
    "difference between mean\n",
    "\n",
    "normalize by total delay - % \n",
    "\n",
    "barchart\n"
   ]
  },
  {
   "cell_type": "code",
   "execution_count": 13,
   "id": "c39974a7-a0d6-4423-af3d-43b6911af6ab",
   "metadata": {},
   "outputs": [
    {
     "data": {
      "text/plain": [
       "[<matplotlib.lines.Line2D at 0x7fa9cac16ad0>]"
      ]
     },
     "execution_count": 13,
     "metadata": {},
     "output_type": "execute_result"
    },
    {
     "data": {
      "image/png": "[encoded data removed]",
      "text/plain": [
       "<Figure size 432x288 with 1 Axes>"
      ]
     },
     "metadata": {
      "needs_background": "light"
     },
     "output_type": "display_data"
    }
   ],
   "source": [
    "mask = data[\"CARRIER_DELAY\"] >= 0\n",
    "plt.plot(data[mask][\"CARRIER_DELAY\"], data[mask][\"ARR_DELAY_NEW\"], \".\")"
   ]
  },
  {
   "cell_type": "code",
   "execution_count": 12,
   "id": "df67b837-3b22-4b1a-9380-92c1af02fc70",
   "metadata": {},
   "outputs": [
    {
     "data": {
      "text/plain": [
       "[<matplotlib.lines.Line2D at 0x7faa0ac9bcd0>]"
      ]
     },
     "execution_count": 12,
     "metadata": {},
     "output_type": "execute_result"
    },
    {
     "data": {
      "image/png": "[encoded data removed]",
      "text/plain": [
       "<Figure size 432x288 with 1 Axes>"
      ]
     },
     "metadata": {
      "needs_background": "light"
     },
     "output_type": "display_data"
    }
   ],
   "source": [
    "mask = data[\"SECURITY_DELAY\"] >= 0\n",
    "plt.plot(data[mask][\"SECURITY_DELAY\"], data[mask][\"ARR_DELAY_NEW\"], \".\")"
   ]
  },
  {
   "cell_type": "markdown",
   "id": "19e18221-523d-46ed-9c15-227622855e42",
   "metadata": {},
   "source": [
    "### SVM not sure why it would work any better"
   ]
  },
  {
   "cell_type": "code",
   "execution_count": null,
   "id": "d6e195c5-2974-4fac-9374-9c71ba667083",
   "metadata": {},
   "outputs": [],
   "source": [
    "%%time\n",
    "#split 30-70 test-train data of columns i care about\n",
    "data = data.dropna()\n",
    "data_lr = data.filter(['MONTH', 'FL_DATE', 'ORIGIN', 'DEST', 'DEP_DELAY', 'DEP_DELAY_NEW',\n",
    "       'DEP_DEL15', 'DISTANCE',\n",
    "       'CARRIER_DELAY', 'WEATHER_DELAY', 'NAS_DELAY', 'SECURITY_DELAY',\n",
    "       'LATE_AIRCRAFT_DELAY'])\n",
    "target_lr = data[\"ARR_DELAY\"]\n",
    "train_data, test_data, train_target, test_target = train_test_split(\n",
    "    data_lr, target_lr, test_size=0.3, random_state=999)\n",
    "train_data"
   ]
  },
  {
   "cell_type": "markdown",
   "id": "74fce004-2943-419d-baea-e77db6dc5b2e",
   "metadata": {},
   "source": [
    "# SVM with previous data data"
   ]
  },
  {
   "cell_type": "code",
   "execution_count": null,
   "id": "8445d3e8-0bde-43fe-ac20-6c255dfd4102",
   "metadata": {},
   "outputs": [],
   "source": [
    "%%time\n",
    "#split 30-70 test-train data of columns i care about\n",
    "data_2018 = data_2018[data_2018[\"Airline\"] == \"JetBlue Airways\"].dropna()\n",
    "# data_2018 = data_2018.dropna()\n",
    "\n",
    "\n",
    "data_lr = data_2018.filter([ 'Origin', 'Dest',\n",
    "       'Distance', 'Quarter', 'Month', 'DayofMonth', 'DayOfWeek'])\n",
    "# data_lr = data_lr.dropna()\n",
    "target_lr = data_2018[\"ArrDelayMinutes\"]\n",
    "# target_lr = target_lr.dropna()\n",
    "train_data, test_data, train_target, test_target = train_test_split(\n",
    "    data_lr, target_lr, test_size=0.3, random_state=999)\n",
    "train_data\n",
    "train_target_cat = train_target > 10\n",
    "test_target_cat = test_target > 10\n",
    "sum(train_target_cat)/len(train_target_cat)"
   ]
  },
  {
   "cell_type": "code",
   "execution_count": null,
   "id": "b305c3f6-0905-4b9d-b8cb-e7bd5240ada0",
   "metadata": {},
   "outputs": [],
   "source": [
    "categorical = ['Origin', 'Dest']\n",
    "numerical = ['Distance', 'Quarter', 'Month', 'DayofMonth', 'DayOfWeek']\n",
    "\n",
    "encoded_train_data = np.append(OneHotEncoder().fit_transform(train_data[categorical].values).toarray(),\n",
    "       train_data[numerical].values, axis =1)\n",
    "encoded_test_data = np.append(OneHotEncoder().fit_transform(test_data[categorical].values).toarray(),\n",
    "       test_data[numerical].values, axis =1)\n",
    "\n",
    "len(encoded_train_data)"
   ]
  },
  {
   "cell_type": "code",
   "execution_count": null,
   "id": "8b6e9c1e-788c-4ae2-b685-30fc72b91bce",
   "metadata": {},
   "outputs": [],
   "source": [
    "%%time\n",
    "\n",
    "model = SVC(kernel='rbf')\n",
    "model.fit(encoded_train_data, train_target_cat)"
   ]
  },
  {
   "cell_type": "code",
   "execution_count": null,
   "id": "52b1ac9e-9ceb-42da-8db7-686e7dc9beee",
   "metadata": {},
   "outputs": [],
   "source": [
    "predicted_test=model.predict(encoded_test_data)\n",
    "predicted_train=model.predict(encoded_train_data)\n",
    "#Baseline Model\n",
    "baseline=DummyClassifier(strategy=\"most_frequent\")\n",
    "baseline.fit(encoded_train_data, train_target_cat)\n",
    "predicted_dummy=baseline.predict(encoded_test_data)\n",
    "\n",
    "test_acc = accuracy_score(y_true=test_target_cat, y_pred=predicted_test) \n",
    "train_acc = accuracy_score(y_true=train_target_cat, y_pred=predicted_train)\n",
    "dummy_acc = accuracy_score(y_true=test_target_cat, y_pred=predicted_dummy)\n",
    "\n",
    "print(\"train acc: \", train_acc)\n",
    "print(\"test acc: \", test_acc)\n",
    "print(\"dummy acc: \", dummy_acc)"
   ]
  },
  {
   "cell_type": "markdown",
   "id": "dcd08be3-79ed-4a6c-bf4b-595fb6f7a99c",
   "metadata": {},
   "source": [
    "## Hypothesis test\n",
    "H0 = same av arrival delay between Septemper and Decemeber\n",
    "H1 = more in December because more flights"
   ]
  },
  {
   "cell_type": "code",
   "execution_count": 99,
   "id": "837bdb30-0f32-45d5-a187-8315d9d9ca09",
   "metadata": {},
   "outputs": [
    {
     "data": {
      "text/plain": [
       "Ttest_indResult(statistic=11.90171177107051, pvalue=1.1640334201920073e-32)"
      ]
     },
     "execution_count": 99,
     "metadata": {},
     "output_type": "execute_result"
    }
   ],
   "source": [
    "sep = data[data[\"MONTH\"] == 9][\"ARR_DELAY_NEW\"].replace(np.nan,0).values\n",
    "dec = data[data[\"MONTH\"] == 12][\"ARR_DELAY_NEW\"].replace(np.nan,0).values\n",
    "october = data[data[\"MONTH\"] == 10][\"ARR_DELAY_NEW\"].replace(np.nan,0).values\n",
    "\n",
    "# new_dec = np.append(dec, [1,3,4,10, 99999,2121])\n",
    "\n",
    "confidence =stats.ttest_ind(dec, sep)\n",
    "# print(len(sep), len(dec))\n",
    "# print(The confidence\n",
    "confidence"
   ]
  },
  {
   "cell_type": "code",
   "execution_count": 103,
   "id": "3422b854-222b-4092-8b18-0ecddc913378",
   "metadata": {},
   "outputs": [
    {
     "name": "stdout",
     "output_type": "stream",
     "text": [
      "11.597664103987679 12.469127170523235\n"
     ]
    }
   ],
   "source": [
    "print(np.mean(sep), np.mean(dec))"
   ]
  },
  {
   "cell_type": "code",
   "execution_count": 101,
   "id": "ac110cd9-7cdc-46e1-bb8f-7e68df5c01ea",
   "metadata": {},
   "outputs": [
    {
     "data": {
      "text/plain": [
       "Ttest_indResult(statistic=-31.263022926994413, pvalue=1.6287798611669867e-214)"
      ]
     },
     "execution_count": 101,
     "metadata": {},
     "output_type": "execute_result"
    }
   ],
   "source": [
    "sep_oct = data[(data[\"MONTH\"] == 9) | (data[\"MONTH\"] == 10 ) ][\"ARR_DELAY_NEW\"].replace(np.nan,0).values\n",
    "dec_jan = data[(data[\"MONTH\"] == 12) | (data[\"MONTH\"] == 1 )][\"ARR_DELAY_NEW\"].replace(np.nan,0).values\n",
    "# october = data[data[\"MONTH\"] == 10][\"ARR_DELAY_NEW\"].replace(np.nan,0).values\n",
    "\n",
    "# new_dec = np.append(dec, [1,3,4,10, 99999,2121])\n",
    "\n",
    "confidence =stats.ttest_ind(sep_oct, dec_jan)\n",
    "# print(len(sep), len(dec))\n",
    "# print(The confidence\n",
    "confidence"
   ]
  },
  {
   "cell_type": "code",
   "execution_count": 5,
   "id": "26ecf6e1-0da9-4adc-91c0-2351569634d4",
   "metadata": {},
   "outputs": [
    {
     "name": "stdout",
     "output_type": "stream",
     "text": [
      "637614 649325\n"
     ]
    }
   ],
   "source": [
    "print(len(sep), len(dec))"
   ]
  },
  {
   "cell_type": "code",
   "execution_count": 30,
   "id": "b88e5c46-0e96-41d7-85b1-e2d8584a42ff",
   "metadata": {},
   "outputs": [],
   "source": [
    "with open('sep.pickle', 'wb') as f:\n",
    "    pickle.dump(sep, f)\n",
    "    \n",
    "with open('dec.pickle', 'wb') as f:\n",
    "    pickle.dump(dec, f)  "
   ]
  },
  {
   "cell_type": "code",
   "execution_count": 46,
   "id": "93f700e3-d209-4510-ac74-af45b5bcfc36",
   "metadata": {},
   "outputs": [
    {
     "data": {
      "text/plain": [
       "Ttest_indResult(statistic=-11.90171177107051, pvalue=1.1640334201920073e-32)"
      ]
     },
     "execution_count": 46,
     "metadata": {},
     "output_type": "execute_result"
    }
   ],
   "source": [
    "confidence"
   ]
  },
  {
   "cell_type": "markdown",
   "id": "ecf615c2-310e-4905-82c7-39e2a51e392a",
   "metadata": {},
   "source": [
    "## Normalize delay so can compare different reasons why"
   ]
  },
  {
   "cell_type": "code",
   "execution_count": 80,
   "id": "9617afc9-836f-453f-b767-4e8bf92eb2a7",
   "metadata": {},
   "outputs": [
    {
     "data": {
      "text/plain": [
       "[13434365.0, 11497489.0, 66728.0, 17987450.0, 3828408.0]"
      ]
     },
     "execution_count": 80,
     "metadata": {},
     "output_type": "execute_result"
    }
   ],
   "source": [
    "deleay_resons = [\"CARRIER_DELAY\",\"NAS_DELAY\", \"SECURITY_DELAY\", \"LATE_AIRCRAFT_DELAY\", \"NO_REASON\" ]\n",
    "xlabels = [\"Carrier\",\"NAS\", \"Security\", \"Late Aircraft\", \"No Reason\" ]\n",
    "\n",
    "y = []\n",
    "tot = []\n",
    "\n",
    "for reason in deleay_resons:\n",
    "    # data[reason + \"_sum\"] = data[reason]/data[\"ARR_DELAY_NEW\"]\n",
    "    tot.append(data[reason].sum())\n",
    "    y.append(data[reason + \"%\"].mean())\n",
    "tot\n"
   ]
  },
  {
   "cell_type": "code",
   "execution_count": 29,
   "id": "3640ccfa-8cf0-4448-96de-90c6d331eb5b",
   "metadata": {},
   "outputs": [
    {
     "data": {
      "text/html": [
       "<div>\n",
       "<style scoped>\n",
       "    .dataframe tbody tr th:only-of-type {\n",
       "        vertical-align: middle;\n",
       "    }\n",
       "\n",
       "    .dataframe tbody tr th {\n",
       "        vertical-align: top;\n",
       "    }\n",
       "\n",
       "    .dataframe thead th {\n",
       "        text-align: right;\n",
       "    }\n",
       "</style>\n",
       "<table border=\"1\" class=\"dataframe\">\n",
       "  <thead>\n",
       "    <tr style=\"text-align: right;\">\n",
       "      <th></th>\n",
       "      <th>MONTH</th>\n",
       "      <th>FL_DATE</th>\n",
       "      <th>ORIGIN</th>\n",
       "      <th>DEST</th>\n",
       "      <th>DEP_DELAY</th>\n",
       "      <th>DEP_DELAY_NEW</th>\n",
       "      <th>DEP_DEL15</th>\n",
       "      <th>ARR_DELAY</th>\n",
       "      <th>ARR_DELAY_NEW</th>\n",
       "      <th>ARR_DEL15</th>\n",
       "      <th>...</th>\n",
       "      <th>CARRIER_DELAY</th>\n",
       "      <th>WEATHER_DELAY</th>\n",
       "      <th>NAS_DELAY</th>\n",
       "      <th>SECURITY_DELAY</th>\n",
       "      <th>LATE_AIRCRAFT_DELAY</th>\n",
       "      <th>CARRIER_DELAY%</th>\n",
       "      <th>NAS_DELAY%</th>\n",
       "      <th>SECURITY_DELAY%</th>\n",
       "      <th>LATE_AIRCRAFT_DELAY%</th>\n",
       "      <th>NO_REASON</th>\n",
       "    </tr>\n",
       "  </thead>\n",
       "  <tbody>\n",
       "    <tr>\n",
       "      <th>4</th>\n",
       "      <td>8</td>\n",
       "      <td>8/11/2018 12:00:00 AM</td>\n",
       "      <td>SFO</td>\n",
       "      <td>FLL</td>\n",
       "      <td>3.0</td>\n",
       "      <td>3.0</td>\n",
       "      <td>0.0</td>\n",
       "      <td>3.0</td>\n",
       "      <td>3.0</td>\n",
       "      <td>0.0</td>\n",
       "      <td>...</td>\n",
       "      <td>NaN</td>\n",
       "      <td>NaN</td>\n",
       "      <td>NaN</td>\n",
       "      <td>NaN</td>\n",
       "      <td>NaN</td>\n",
       "      <td>NaN</td>\n",
       "      <td>NaN</td>\n",
       "      <td>NaN</td>\n",
       "      <td>NaN</td>\n",
       "      <td>3.0</td>\n",
       "    </tr>\n",
       "    <tr>\n",
       "      <th>9</th>\n",
       "      <td>8</td>\n",
       "      <td>8/16/2018 12:00:00 AM</td>\n",
       "      <td>SFO</td>\n",
       "      <td>FLL</td>\n",
       "      <td>6.0</td>\n",
       "      <td>6.0</td>\n",
       "      <td>0.0</td>\n",
       "      <td>3.0</td>\n",
       "      <td>3.0</td>\n",
       "      <td>0.0</td>\n",
       "      <td>...</td>\n",
       "      <td>NaN</td>\n",
       "      <td>NaN</td>\n",
       "      <td>NaN</td>\n",
       "      <td>NaN</td>\n",
       "      <td>NaN</td>\n",
       "      <td>NaN</td>\n",
       "      <td>NaN</td>\n",
       "      <td>NaN</td>\n",
       "      <td>NaN</td>\n",
       "      <td>3.0</td>\n",
       "    </tr>\n",
       "    <tr>\n",
       "      <th>22</th>\n",
       "      <td>8</td>\n",
       "      <td>8/29/2018 12:00:00 AM</td>\n",
       "      <td>SFO</td>\n",
       "      <td>FLL</td>\n",
       "      <td>1.0</td>\n",
       "      <td>1.0</td>\n",
       "      <td>0.0</td>\n",
       "      <td>14.0</td>\n",
       "      <td>14.0</td>\n",
       "      <td>0.0</td>\n",
       "      <td>...</td>\n",
       "      <td>NaN</td>\n",
       "      <td>NaN</td>\n",
       "      <td>NaN</td>\n",
       "      <td>NaN</td>\n",
       "      <td>NaN</td>\n",
       "      <td>NaN</td>\n",
       "      <td>NaN</td>\n",
       "      <td>NaN</td>\n",
       "      <td>NaN</td>\n",
       "      <td>14.0</td>\n",
       "    </tr>\n",
       "    <tr>\n",
       "      <th>26</th>\n",
       "      <td>8</td>\n",
       "      <td>8/2/2018 12:00:00 AM</td>\n",
       "      <td>LAS</td>\n",
       "      <td>LGB</td>\n",
       "      <td>9.0</td>\n",
       "      <td>9.0</td>\n",
       "      <td>0.0</td>\n",
       "      <td>7.0</td>\n",
       "      <td>7.0</td>\n",
       "      <td>0.0</td>\n",
       "      <td>...</td>\n",
       "      <td>NaN</td>\n",
       "      <td>NaN</td>\n",
       "      <td>NaN</td>\n",
       "      <td>NaN</td>\n",
       "      <td>NaN</td>\n",
       "      <td>NaN</td>\n",
       "      <td>NaN</td>\n",
       "      <td>NaN</td>\n",
       "      <td>NaN</td>\n",
       "      <td>7.0</td>\n",
       "    </tr>\n",
       "    <tr>\n",
       "      <th>32</th>\n",
       "      <td>8</td>\n",
       "      <td>8/8/2018 12:00:00 AM</td>\n",
       "      <td>LAS</td>\n",
       "      <td>LGB</td>\n",
       "      <td>8.0</td>\n",
       "      <td>8.0</td>\n",
       "      <td>0.0</td>\n",
       "      <td>6.0</td>\n",
       "      <td>6.0</td>\n",
       "      <td>0.0</td>\n",
       "      <td>...</td>\n",
       "      <td>NaN</td>\n",
       "      <td>NaN</td>\n",
       "      <td>NaN</td>\n",
       "      <td>NaN</td>\n",
       "      <td>NaN</td>\n",
       "      <td>NaN</td>\n",
       "      <td>NaN</td>\n",
       "      <td>NaN</td>\n",
       "      <td>NaN</td>\n",
       "      <td>6.0</td>\n",
       "    </tr>\n",
       "    <tr>\n",
       "      <th>...</th>\n",
       "      <td>...</td>\n",
       "      <td>...</td>\n",
       "      <td>...</td>\n",
       "      <td>...</td>\n",
       "      <td>...</td>\n",
       "      <td>...</td>\n",
       "      <td>...</td>\n",
       "      <td>...</td>\n",
       "      <td>...</td>\n",
       "      <td>...</td>\n",
       "      <td>...</td>\n",
       "      <td>...</td>\n",
       "      <td>...</td>\n",
       "      <td>...</td>\n",
       "      <td>...</td>\n",
       "      <td>...</td>\n",
       "      <td>...</td>\n",
       "      <td>...</td>\n",
       "      <td>...</td>\n",
       "      <td>...</td>\n",
       "      <td>...</td>\n",
       "    </tr>\n",
       "    <tr>\n",
       "      <th>3738219</th>\n",
       "      <td>1</td>\n",
       "      <td>1/2/2019 12:00:00 AM</td>\n",
       "      <td>IAH</td>\n",
       "      <td>HRL</td>\n",
       "      <td>1.0</td>\n",
       "      <td>1.0</td>\n",
       "      <td>0.0</td>\n",
       "      <td>9.0</td>\n",
       "      <td>9.0</td>\n",
       "      <td>0.0</td>\n",
       "      <td>...</td>\n",
       "      <td>NaN</td>\n",
       "      <td>NaN</td>\n",
       "      <td>NaN</td>\n",
       "      <td>NaN</td>\n",
       "      <td>NaN</td>\n",
       "      <td>NaN</td>\n",
       "      <td>NaN</td>\n",
       "      <td>NaN</td>\n",
       "      <td>NaN</td>\n",
       "      <td>9.0</td>\n",
       "    </tr>\n",
       "    <tr>\n",
       "      <th>3738221</th>\n",
       "      <td>1</td>\n",
       "      <td>1/4/2019 12:00:00 AM</td>\n",
       "      <td>IAH</td>\n",
       "      <td>HRL</td>\n",
       "      <td>-3.0</td>\n",
       "      <td>0.0</td>\n",
       "      <td>0.0</td>\n",
       "      <td>2.0</td>\n",
       "      <td>2.0</td>\n",
       "      <td>0.0</td>\n",
       "      <td>...</td>\n",
       "      <td>NaN</td>\n",
       "      <td>NaN</td>\n",
       "      <td>NaN</td>\n",
       "      <td>NaN</td>\n",
       "      <td>NaN</td>\n",
       "      <td>NaN</td>\n",
       "      <td>NaN</td>\n",
       "      <td>NaN</td>\n",
       "      <td>NaN</td>\n",
       "      <td>2.0</td>\n",
       "    </tr>\n",
       "    <tr>\n",
       "      <th>3738230</th>\n",
       "      <td>1</td>\n",
       "      <td>1/13/2019 12:00:00 AM</td>\n",
       "      <td>IAH</td>\n",
       "      <td>HRL</td>\n",
       "      <td>-3.0</td>\n",
       "      <td>0.0</td>\n",
       "      <td>0.0</td>\n",
       "      <td>12.0</td>\n",
       "      <td>12.0</td>\n",
       "      <td>0.0</td>\n",
       "      <td>...</td>\n",
       "      <td>NaN</td>\n",
       "      <td>NaN</td>\n",
       "      <td>NaN</td>\n",
       "      <td>NaN</td>\n",
       "      <td>NaN</td>\n",
       "      <td>NaN</td>\n",
       "      <td>NaN</td>\n",
       "      <td>NaN</td>\n",
       "      <td>NaN</td>\n",
       "      <td>12.0</td>\n",
       "    </tr>\n",
       "    <tr>\n",
       "      <th>3738241</th>\n",
       "      <td>1</td>\n",
       "      <td>1/24/2019 12:00:00 AM</td>\n",
       "      <td>IAH</td>\n",
       "      <td>HRL</td>\n",
       "      <td>-5.0</td>\n",
       "      <td>0.0</td>\n",
       "      <td>0.0</td>\n",
       "      <td>8.0</td>\n",
       "      <td>8.0</td>\n",
       "      <td>0.0</td>\n",
       "      <td>...</td>\n",
       "      <td>NaN</td>\n",
       "      <td>NaN</td>\n",
       "      <td>NaN</td>\n",
       "      <td>NaN</td>\n",
       "      <td>NaN</td>\n",
       "      <td>NaN</td>\n",
       "      <td>NaN</td>\n",
       "      <td>NaN</td>\n",
       "      <td>NaN</td>\n",
       "      <td>8.0</td>\n",
       "    </tr>\n",
       "    <tr>\n",
       "      <th>3738261</th>\n",
       "      <td>1</td>\n",
       "      <td>1/18/2019 12:00:00 AM</td>\n",
       "      <td>IAH</td>\n",
       "      <td>CLE</td>\n",
       "      <td>-1.0</td>\n",
       "      <td>0.0</td>\n",
       "      <td>0.0</td>\n",
       "      <td>6.0</td>\n",
       "      <td>6.0</td>\n",
       "      <td>0.0</td>\n",
       "      <td>...</td>\n",
       "      <td>NaN</td>\n",
       "      <td>NaN</td>\n",
       "      <td>NaN</td>\n",
       "      <td>NaN</td>\n",
       "      <td>NaN</td>\n",
       "      <td>NaN</td>\n",
       "      <td>NaN</td>\n",
       "      <td>NaN</td>\n",
       "      <td>NaN</td>\n",
       "      <td>6.0</td>\n",
       "    </tr>\n",
       "  </tbody>\n",
       "</table>\n",
       "<p>602291 rows × 21 columns</p>\n",
       "</div>"
      ],
      "text/plain": [
       "         MONTH                FL_DATE ORIGIN DEST  DEP_DELAY  DEP_DELAY_NEW  \\\n",
       "4            8  8/11/2018 12:00:00 AM    SFO  FLL        3.0            3.0   \n",
       "9            8  8/16/2018 12:00:00 AM    SFO  FLL        6.0            6.0   \n",
       "22           8  8/29/2018 12:00:00 AM    SFO  FLL        1.0            1.0   \n",
       "26           8   8/2/2018 12:00:00 AM    LAS  LGB        9.0            9.0   \n",
       "32           8   8/8/2018 12:00:00 AM    LAS  LGB        8.0            8.0   \n",
       "...        ...                    ...    ...  ...        ...            ...   \n",
       "3738219      1   1/2/2019 12:00:00 AM    IAH  HRL        1.0            1.0   \n",
       "3738221      1   1/4/2019 12:00:00 AM    IAH  HRL       -3.0            0.0   \n",
       "3738230      1  1/13/2019 12:00:00 AM    IAH  HRL       -3.0            0.0   \n",
       "3738241      1  1/24/2019 12:00:00 AM    IAH  HRL       -5.0            0.0   \n",
       "3738261      1  1/18/2019 12:00:00 AM    IAH  CLE       -1.0            0.0   \n",
       "\n",
       "         DEP_DEL15  ARR_DELAY  ARR_DELAY_NEW  ARR_DEL15  ...  CARRIER_DELAY  \\\n",
       "4              0.0        3.0            3.0        0.0  ...            NaN   \n",
       "9              0.0        3.0            3.0        0.0  ...            NaN   \n",
       "22             0.0       14.0           14.0        0.0  ...            NaN   \n",
       "26             0.0        7.0            7.0        0.0  ...            NaN   \n",
       "32             0.0        6.0            6.0        0.0  ...            NaN   \n",
       "...            ...        ...            ...        ...  ...            ...   \n",
       "3738219        0.0        9.0            9.0        0.0  ...            NaN   \n",
       "3738221        0.0        2.0            2.0        0.0  ...            NaN   \n",
       "3738230        0.0       12.0           12.0        0.0  ...            NaN   \n",
       "3738241        0.0        8.0            8.0        0.0  ...            NaN   \n",
       "3738261        0.0        6.0            6.0        0.0  ...            NaN   \n",
       "\n",
       "         WEATHER_DELAY  NAS_DELAY  SECURITY_DELAY  LATE_AIRCRAFT_DELAY  \\\n",
       "4                  NaN        NaN             NaN                  NaN   \n",
       "9                  NaN        NaN             NaN                  NaN   \n",
       "22                 NaN        NaN             NaN                  NaN   \n",
       "26                 NaN        NaN             NaN                  NaN   \n",
       "32                 NaN        NaN             NaN                  NaN   \n",
       "...                ...        ...             ...                  ...   \n",
       "3738219            NaN        NaN             NaN                  NaN   \n",
       "3738221            NaN        NaN             NaN                  NaN   \n",
       "3738230            NaN        NaN             NaN                  NaN   \n",
       "3738241            NaN        NaN             NaN                  NaN   \n",
       "3738261            NaN        NaN             NaN                  NaN   \n",
       "\n",
       "         CARRIER_DELAY%  NAS_DELAY%  SECURITY_DELAY%  LATE_AIRCRAFT_DELAY%  \\\n",
       "4                   NaN         NaN              NaN                   NaN   \n",
       "9                   NaN         NaN              NaN                   NaN   \n",
       "22                  NaN         NaN              NaN                   NaN   \n",
       "26                  NaN         NaN              NaN                   NaN   \n",
       "32                  NaN         NaN              NaN                   NaN   \n",
       "...                 ...         ...              ...                   ...   \n",
       "3738219             NaN         NaN              NaN                   NaN   \n",
       "3738221             NaN         NaN              NaN                   NaN   \n",
       "3738230             NaN         NaN              NaN                   NaN   \n",
       "3738241             NaN         NaN              NaN                   NaN   \n",
       "3738261             NaN         NaN              NaN                   NaN   \n",
       "\n",
       "         NO_REASON  \n",
       "4              3.0  \n",
       "9              3.0  \n",
       "22            14.0  \n",
       "26             7.0  \n",
       "32             6.0  \n",
       "...            ...  \n",
       "3738219        9.0  \n",
       "3738221        2.0  \n",
       "3738230       12.0  \n",
       "3738241        8.0  \n",
       "3738261        6.0  \n",
       "\n",
       "[602291 rows x 21 columns]"
      ]
     },
     "execution_count": 29,
     "metadata": {},
     "output_type": "execute_result"
    }
   ],
   "source": [
    "\n",
    "mask_nans = (data[\"ARR_DELAY_NEW\"]>0) & (data[\"CARRIER_DELAY\"].isna())\n",
    "\n",
    "data[\"NO_REASON\"] = data[mask_nans][\"ARR_DELAY_NEW\"]\n",
    "\n",
    "data[mask_nans]\n"
   ]
  },
  {
   "cell_type": "code",
   "execution_count": 94,
   "id": "9cf50afa-5011-427e-9020-62d34547205e",
   "metadata": {},
   "outputs": [
    {
     "name": "stdout",
     "output_type": "stream",
     "text": [
      "0.9668492804333266\n"
     ]
    },
    {
     "data": {
      "image/png": "[encoded data removed]",
      "text/plain": [
       "<Figure size 288x288 with 1 Axes>"
      ]
     },
     "metadata": {
      "needs_background": "light"
     },
     "output_type": "display_data"
    }
   ],
   "source": [
    "# sns.catplot(x = deleay_resons, y = y, kind = \"bar\")\n",
    "\n",
    "\n",
    "#aircraft delay actually the main reason\n",
    "# print(y)\n",
    "plt.figure(figsize=(4, 4))\n",
    "\n",
    "\n",
    "plt.bar(xlabels[:-1], y[:-1])\n",
    "plt.ylabel(\"mean % of total arrival delay\")\n",
    "plt.xticks(rotation=60)\n",
    "plt.title(\"Normalized delay causes\")\n",
    "print(sum(y[:-1]))"
   ]
  },
  {
   "cell_type": "code",
   "execution_count": 82,
   "id": "e222ab41-83bc-4d04-aaa7-b867a9be33b7",
   "metadata": {},
   "outputs": [],
   "source": [
    "# plt.figure(figsize=(5, 5))\n",
    "# plt.bar(xlabels, tot)\n",
    "# plt.xticks(rotation=60)\n",
    "# plt.ylabel(\"Total delay\")"
   ]
  },
  {
   "cell_type": "code",
   "execution_count": 96,
   "id": "187f8e53-fdce-45bf-9dd1-547c70ee6c67",
   "metadata": {},
   "outputs": [
    {
     "data": {
      "text/plain": [
       "Text(0, 0.5, '% of total delay')"
      ]
     },
     "execution_count": 96,
     "metadata": {},
     "output_type": "execute_result"
    },
    {
     "data": {
      "image/png": "[encoded data removed]",
      "text/plain": [
       "<Figure size 288x288 with 1 Axes>"
      ]
     },
     "metadata": {
      "needs_background": "light"
     },
     "output_type": "display_data"
    }
   ],
   "source": [
    "percent = tot/sum(tot)\n",
    "plt.figure(figsize=(4,4))\n",
    "plt.bar(xlabels, percent)\n",
    "plt.title(\"Total contribution to the delay\")\n",
    "plt.xticks(rotation=60)\n",
    "plt.ylabel(\"% of total delay\")"
   ]
  },
  {
   "cell_type": "code",
   "execution_count": 16,
   "id": "b78356b7-9745-4164-b96f-1ecfc2abe6b7",
   "metadata": {},
   "outputs": [
    {
     "data": {
      "text/plain": [
       "[<matplotlib.lines.Line2D at 0x7fa16d053a00>]"
      ]
     },
     "execution_count": 16,
     "metadata": {},
     "output_type": "execute_result"
    },
    {
     "data": {
      "image/png": "[encoded data removed]",
      "text/plain": [
       "<Figure size 432x288 with 1 Axes>"
      ]
     },
     "metadata": {
      "needs_background": "light"
     },
     "output_type": "display_data"
    }
   ],
   "source": [
    "plt.plot(data[\"CARRIER_DELAY\"], data[\"ARR_DELAY_NEW\"], \".\")"
   ]
  },
  {
   "cell_type": "code",
   "execution_count": 17,
   "id": "301a708c-200b-4386-8ab5-634bfacaa160",
   "metadata": {},
   "outputs": [
    {
     "data": {
      "text/plain": [
       "[<matplotlib.lines.Line2D at 0x7fa16d0c1c90>]"
      ]
     },
     "execution_count": 17,
     "metadata": {},
     "output_type": "execute_result"
    },
    {
     "data": {
      "image/png": "[encoded data removed]",
      "text/plain": [
       "<Figure size 432x288 with 1 Axes>"
      ]
     },
     "metadata": {
      "needs_background": "light"
     },
     "output_type": "display_data"
    }
   ],
   "source": [
    "plt.plot(data[\"LATE_AIRCRAFT_DELAY\"], data[\"ARR_DELAY_NEW\"], \".\")"
   ]
  },
  {
   "cell_type": "markdown",
   "id": "162f6b4f-340d-4f59-ae53-657cf05bb7aa",
   "metadata": {},
   "source": [
    "## Check how this changes over different months and years"
   ]
  },
  {
   "cell_type": "code",
   "execution_count": 73,
   "id": "ae704812-7b6e-45e6-8417-680192608aaf",
   "metadata": {},
   "outputs": [
    {
     "name": "stdout",
     "output_type": "stream",
     "text": [
      "for September\n",
      "0.9604508636180872\n"
     ]
    },
    {
     "data": {
      "text/plain": [
       "Text(0, 0.5, '% of total delay')"
      ]
     },
     "execution_count": 73,
     "metadata": {},
     "output_type": "execute_result"
    },
    {
     "data": {
      "image/png": "[encoded data removed]",
      "text/plain": [
       "<Figure size 360x360 with 1 Axes>"
      ]
     },
     "metadata": {
      "needs_background": "light"
     },
     "output_type": "display_data"
    },
    {
     "data": {
      "image/png": "[encoded data removed]",
      "text/plain": [
       "<Figure size 360x360 with 1 Axes>"
      ]
     },
     "metadata": {
      "needs_background": "light"
     },
     "output_type": "display_data"
    }
   ],
   "source": [
    "deleay_resons = [\"CARRIER_DELAY\",\"NAS_DELAY\", \"SECURITY_DELAY\", \"LATE_AIRCRAFT_DELAY\", \"NO_REASON\" ]\n",
    "xlabels = [\"Carrier\",\"Nas\", \"Security\", \"Late Aircraft\", \"No Reason\" ]\n",
    "\n",
    "y = []\n",
    "tot = []\n",
    "\n",
    "mask = data[\"MONTH\"] == 9\n",
    "\n",
    "for reason in deleay_resons:\n",
    "    # data[reason + \"_sum\"] = data[reason]/data[\"ARR_DELAY_NEW\"]\n",
    "    tot.append(data[mask][reason].sum())\n",
    "    y.append(data[mask][reason + \"%\"].mean())\n",
    "    \n",
    "plt.figure(figsize=(5, 5))\n",
    "\n",
    "\n",
    "plt.bar(xlabels[:-1], y[:-1])\n",
    "plt.ylabel(\"mean % of total arrival delay\")\n",
    "plt.xticks(rotation=60)\n",
    "print(\"for September\")\n",
    "print(sum(y[:-1]))\n",
    "\n",
    "\n",
    "percent = tot/sum(tot)\n",
    "plt.figure(figsize=(5, 5))\n",
    "plt.bar(xlabels, percent)\n",
    "plt.xticks(rotation=60)\n",
    "plt.ylabel(\"% of total delay\")"
   ]
  },
  {
   "cell_type": "markdown",
   "id": "caade694-05fa-4a6b-9005-6f210aba224f",
   "metadata": {},
   "source": [
    "## Linear Regression"
   ]
  },
  {
   "cell_type": "code",
   "execution_count": 10,
   "id": "da779d1a-20b5-46fb-9e6f-28474241ca06",
   "metadata": {},
   "outputs": [
    {
     "name": "stdout",
     "output_type": "stream",
     "text": [
      "CPU times: total: 1.95 s\n",
      "Wall time: 1.99 s\n"
     ]
    },
    {
     "data": {
      "text/html": [
       "<div>\n",
       "<style scoped>\n",
       "    .dataframe tbody tr th:only-of-type {\n",
       "        vertical-align: middle;\n",
       "    }\n",
       "\n",
       "    .dataframe tbody tr th {\n",
       "        vertical-align: top;\n",
       "    }\n",
       "\n",
       "    .dataframe thead th {\n",
       "        text-align: right;\n",
       "    }\n",
       "</style>\n",
       "<table border=\"1\" class=\"dataframe\">\n",
       "  <thead>\n",
       "    <tr style=\"text-align: right;\">\n",
       "      <th></th>\n",
       "      <th>ARR_DELAY_NEW</th>\n",
       "      <th>CARRIER_DELAY</th>\n",
       "      <th>WEATHER_DELAY</th>\n",
       "      <th>NAS_DELAY</th>\n",
       "      <th>SECURITY_DELAY</th>\n",
       "      <th>LATE_AIRCRAFT_DELAY</th>\n",
       "    </tr>\n",
       "  </thead>\n",
       "  <tbody>\n",
       "    <tr>\n",
       "      <th>2892179</th>\n",
       "      <td>81.0</td>\n",
       "      <td>33.0</td>\n",
       "      <td>0.0</td>\n",
       "      <td>0.0</td>\n",
       "      <td>0.0</td>\n",
       "      <td>48.0</td>\n",
       "    </tr>\n",
       "    <tr>\n",
       "      <th>2617147</th>\n",
       "      <td>26.0</td>\n",
       "      <td>0.0</td>\n",
       "      <td>0.0</td>\n",
       "      <td>26.0</td>\n",
       "      <td>0.0</td>\n",
       "      <td>0.0</td>\n",
       "    </tr>\n",
       "    <tr>\n",
       "      <th>2876374</th>\n",
       "      <td>16.0</td>\n",
       "      <td>0.0</td>\n",
       "      <td>0.0</td>\n",
       "      <td>0.0</td>\n",
       "      <td>0.0</td>\n",
       "      <td>16.0</td>\n",
       "    </tr>\n",
       "    <tr>\n",
       "      <th>2691493</th>\n",
       "      <td>19.0</td>\n",
       "      <td>3.0</td>\n",
       "      <td>0.0</td>\n",
       "      <td>16.0</td>\n",
       "      <td>0.0</td>\n",
       "      <td>0.0</td>\n",
       "    </tr>\n",
       "    <tr>\n",
       "      <th>2504680</th>\n",
       "      <td>86.0</td>\n",
       "      <td>6.0</td>\n",
       "      <td>0.0</td>\n",
       "      <td>0.0</td>\n",
       "      <td>0.0</td>\n",
       "      <td>80.0</td>\n",
       "    </tr>\n",
       "    <tr>\n",
       "      <th>...</th>\n",
       "      <td>...</td>\n",
       "      <td>...</td>\n",
       "      <td>...</td>\n",
       "      <td>...</td>\n",
       "      <td>...</td>\n",
       "      <td>...</td>\n",
       "    </tr>\n",
       "    <tr>\n",
       "      <th>2484045</th>\n",
       "      <td>56.0</td>\n",
       "      <td>10.0</td>\n",
       "      <td>0.0</td>\n",
       "      <td>2.0</td>\n",
       "      <td>0.0</td>\n",
       "      <td>44.0</td>\n",
       "    </tr>\n",
       "    <tr>\n",
       "      <th>2889786</th>\n",
       "      <td>16.0</td>\n",
       "      <td>0.0</td>\n",
       "      <td>0.0</td>\n",
       "      <td>16.0</td>\n",
       "      <td>0.0</td>\n",
       "      <td>0.0</td>\n",
       "    </tr>\n",
       "    <tr>\n",
       "      <th>3049777</th>\n",
       "      <td>36.0</td>\n",
       "      <td>0.0</td>\n",
       "      <td>0.0</td>\n",
       "      <td>0.0</td>\n",
       "      <td>0.0</td>\n",
       "      <td>36.0</td>\n",
       "    </tr>\n",
       "    <tr>\n",
       "      <th>2867560</th>\n",
       "      <td>15.0</td>\n",
       "      <td>0.0</td>\n",
       "      <td>0.0</td>\n",
       "      <td>15.0</td>\n",
       "      <td>0.0</td>\n",
       "      <td>0.0</td>\n",
       "    </tr>\n",
       "    <tr>\n",
       "      <th>2969589</th>\n",
       "      <td>43.0</td>\n",
       "      <td>0.0</td>\n",
       "      <td>15.0</td>\n",
       "      <td>4.0</td>\n",
       "      <td>0.0</td>\n",
       "      <td>24.0</td>\n",
       "    </tr>\n",
       "  </tbody>\n",
       "</table>\n",
       "<p>84341 rows × 6 columns</p>\n",
       "</div>"
      ],
      "text/plain": [
       "         ARR_DELAY_NEW  CARRIER_DELAY  WEATHER_DELAY  NAS_DELAY  \\\n",
       "2892179           81.0           33.0            0.0        0.0   \n",
       "2617147           26.0            0.0            0.0       26.0   \n",
       "2876374           16.0            0.0            0.0        0.0   \n",
       "2691493           19.0            3.0            0.0       16.0   \n",
       "2504680           86.0            6.0            0.0        0.0   \n",
       "...                ...            ...            ...        ...   \n",
       "2484045           56.0           10.0            0.0        2.0   \n",
       "2889786           16.0            0.0            0.0       16.0   \n",
       "3049777           36.0            0.0            0.0        0.0   \n",
       "2867560           15.0            0.0            0.0       15.0   \n",
       "2969589           43.0            0.0           15.0        4.0   \n",
       "\n",
       "         SECURITY_DELAY  LATE_AIRCRAFT_DELAY  \n",
       "2892179             0.0                 48.0  \n",
       "2617147             0.0                  0.0  \n",
       "2876374             0.0                 16.0  \n",
       "2691493             0.0                  0.0  \n",
       "2504680             0.0                 80.0  \n",
       "...                 ...                  ...  \n",
       "2484045             0.0                 44.0  \n",
       "2889786             0.0                  0.0  \n",
       "3049777             0.0                 36.0  \n",
       "2867560             0.0                  0.0  \n",
       "2969589             0.0                 24.0  \n",
       "\n",
       "[84341 rows x 6 columns]"
      ]
     },
     "execution_count": 10,
     "metadata": {},
     "output_type": "execute_result"
    }
   ],
   "source": [
    "%%time\n",
    "#split 30-70 test-train data of columns i care about\n",
    "data = data.dropna()\n",
    "data_jan = data[data['MONTH']==12]\n",
    "data_lr = data_jan.filter(['ARR_DELAY_NEW', 'CARRIER_DELAY', 'WEATHER_DELAY', 'NAS_DELAY',\n",
    "                           'SECURITY_DELAY', 'LATE_AIRCRAFT_DELAY'])\n",
    "#'WEATHER_DELAY', 'NAS_DELAY', 'SECURITY_DELAY', 'LATE_AIRCRAFT_DELAY'\n",
    "# data_lr = data_lr.dropna()\n",
    "target_lr = data_jan[\"ARR_DELAY_NEW\"].values\n",
    "# target_lr = target_lr.dropna()\n",
    "train_data, test_data, train_target, test_target = train_test_split(\n",
    "    data_lr, target_lr, test_size=0.3, random_state=999)\n",
    "train_data"
   ]
  },
  {
   "cell_type": "code",
   "execution_count": 12,
   "id": "c3d66b6d-b6cd-43f9-b86f-5c7fd470c68c",
   "metadata": {},
   "outputs": [
    {
     "name": "stdout",
     "output_type": "stream",
     "text": [
      "done mate\n",
      "3747.8410207922584 5614.82611801389 6219.722484343382 6498.717931166782 4896.2683076489675 6500.802031678711\n",
      "CPU times: total: 250 ms\n",
      "Wall time: 58.8 ms\n"
     ]
    }
   ],
   "source": [
    "%%time\n",
    "#carrier delay\n",
    "encoded_train_data_car = train_data[['CARRIER_DELAY']]\n",
    "encoded_test_data_car = test_data[['CARRIER_DELAY']]\n",
    "\n",
    "linear_model_car = LinearRegression()\n",
    "linear_model_car.fit(X=encoded_train_data_car, y=train_target)\n",
    "predicted_car = linear_model_car.predict(encoded_test_data_car)\n",
    "predicted2_car= linear_model_car.predict(encoded_train_data_car)\n",
    "\n",
    "print(\"done mate\")\n",
    "#mse_train = mean_squared_error(train_target[\"ArrDelayMinutes\"].values ,train_target[\"predicted\"].values )\n",
    "#mse_test = mean_squared_error(test_target[\"ArrDelayMinutes\"].values ,test_target[\"predicted\"].values )\n",
    "mse_test_car = mean_squared_error(test_target, predicted_car)\n",
    "mse_train_car= mean_squared_error(train_target, predicted2_car)\n",
    "\n",
    "#weather delay\n",
    "encoded_train_data_weath = train_data[['WEATHER_DELAY']]\n",
    "encoded_test_data_weath = test_data[['WEATHER_DELAY']]\n",
    "\n",
    "linear_model_weath = LinearRegression()\n",
    "linear_model_weath.fit(X=encoded_train_data_weath, y=train_target)\n",
    "predicted_weath = linear_model_weath.predict(encoded_test_data_weath)\n",
    "predicted2_weath= linear_model_weath.predict(encoded_train_data_weath)\n",
    "\n",
    "mse_test_weath = mean_squared_error(test_target, predicted_weath)\n",
    "mse_train_weath= mean_squared_error(train_target, predicted2_weath)\n",
    "\n",
    "#nas delay\n",
    "encoded_train_data_nas = train_data[['NAS_DELAY']]\n",
    "encoded_test_data_nas = test_data[['NAS_DELAY']]\n",
    "\n",
    "linear_model_nas = LinearRegression()\n",
    "linear_model_nas.fit(X=encoded_train_data_nas, y=train_target)\n",
    "predicted_nas = linear_model_nas.predict(encoded_test_data_nas)\n",
    "predicted2_nas= linear_model_nas.predict(encoded_train_data_nas)\n",
    "\n",
    "mse_test_nas = mean_squared_error(test_target, predicted_nas)\n",
    "mse_train_nas= mean_squared_error(train_target, predicted2_nas)\n",
    "\n",
    "\n",
    "#security delay\n",
    "encoded_train_data_sec = train_data[['SECURITY_DELAY']]\n",
    "encoded_test_data_sec = test_data[['SECURITY_DELAY']]\n",
    "\n",
    "linear_model_sec = LinearRegression()\n",
    "linear_model_sec.fit(X=encoded_train_data_sec, y=train_target)\n",
    "predicted_sec = linear_model_sec.predict(encoded_test_data_sec)\n",
    "predicted2_sec= linear_model_sec.predict(encoded_train_data_sec)\n",
    "\n",
    "mse_test_sec = mean_squared_error(test_target, predicted_sec)\n",
    "mse_train_sec= mean_squared_error(train_target, predicted2_sec)\n",
    "\n",
    "#late aircraft\n",
    "encoded_train_data_late = train_data[['LATE_AIRCRAFT_DELAY']]\n",
    "encoded_test_data_late = test_data[['LATE_AIRCRAFT_DELAY']]\n",
    "\n",
    "linear_model_late = LinearRegression()\n",
    "linear_model_late.fit(X=encoded_train_data_late, y=train_target)\n",
    "predicted_late = linear_model_late.predict(encoded_test_data_late)\n",
    "predicted2_late= linear_model_late.predict(encoded_train_data_late)\n",
    "\n",
    "mse_test_late = mean_squared_error(test_target, predicted_late)\n",
    "mse_train_late= mean_squared_error(train_target, predicted2_late)\n",
    "\n",
    "\n",
    "#always the same\n",
    "average = np.mean(test_target)\n",
    "baseline = np.full(predicted_late.shape, average)\n",
    "mse_base = mean_squared_error(test_target, baseline)\n",
    "print(mse_test_car, mse_test_weath, mse_test_nas, mse_test_sec, mse_test_late ,mse_base)\n"
   ]
  },
  {
   "cell_type": "code",
   "execution_count": null,
   "id": "8cfd30ac-2e0b-4478-9e5e-9977e1060a8d",
   "metadata": {},
   "outputs": [],
   "source": []
  }
 ],
 "metadata": {
  "kernelspec": {
   "display_name": "Python 3 (ipykernel)",
   "language": "python",
   "name": "python3"
  },
  "language_info": {
   "codemirror_mode": {
    "name": "ipython",
    "version": 3
   },
   "file_extension": ".py",
   "mimetype": "text/x-python",
   "name": "python",
   "nbconvert_exporter": "python",
   "pygments_lexer": "ipython3",
   "version": "3.10.4"
  }
 },
 "nbformat": 4,
 "nbformat_minor": 5
}
